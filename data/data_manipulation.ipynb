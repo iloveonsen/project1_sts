{
 "cells": [
  {
   "cell_type": "code",
   "execution_count": 1,
   "metadata": {},
   "outputs": [],
   "source": [
    "import pandas as pd\n",
    "import numpy as np\n",
    "import matplotlib.pyplot as plt\n",
    "import seaborn as sns"
   ]
  },
  {
   "cell_type": "code",
   "execution_count": 2,
   "metadata": {},
   "outputs": [],
   "source": [
    "%matplotlib inline"
   ]
  },
  {
   "cell_type": "code",
   "execution_count": 3,
   "metadata": {},
   "outputs": [
    {
     "data": {
      "text/html": [
       "<div>\n",
       "<style scoped>\n",
       "    .dataframe tbody tr th:only-of-type {\n",
       "        vertical-align: middle;\n",
       "    }\n",
       "\n",
       "    .dataframe tbody tr th {\n",
       "        vertical-align: top;\n",
       "    }\n",
       "\n",
       "    .dataframe thead th {\n",
       "        text-align: right;\n",
       "    }\n",
       "</style>\n",
       "<table border=\"1\" class=\"dataframe\">\n",
       "  <thead>\n",
       "    <tr style=\"text-align: right;\">\n",
       "      <th></th>\n",
       "      <th>id</th>\n",
       "      <th>source</th>\n",
       "      <th>sentence_1</th>\n",
       "      <th>sentence_2</th>\n",
       "      <th>label</th>\n",
       "      <th>binary-label</th>\n",
       "    </tr>\n",
       "  </thead>\n",
       "  <tbody>\n",
       "    <tr>\n",
       "      <th>0</th>\n",
       "      <td>boostcamp-sts-v1-train-000</td>\n",
       "      <td>nsmc-sampled</td>\n",
       "      <td>스릴도있고 반전도 있고 여느 한국영화 쓰레기들하고는 차원이 다르네요~</td>\n",
       "      <td>반전도 있고,사랑도 있고재미도있네요.</td>\n",
       "      <td>2.2</td>\n",
       "      <td>0.0</td>\n",
       "    </tr>\n",
       "    <tr>\n",
       "      <th>1</th>\n",
       "      <td>boostcamp-sts-v1-train-001</td>\n",
       "      <td>slack-rtt</td>\n",
       "      <td>앗 제가 접근권한이 없다고 뜹니다;;</td>\n",
       "      <td>오, 액세스 권한이 없다고 합니다.</td>\n",
       "      <td>4.2</td>\n",
       "      <td>1.0</td>\n",
       "    </tr>\n",
       "    <tr>\n",
       "      <th>2</th>\n",
       "      <td>boostcamp-sts-v1-train-002</td>\n",
       "      <td>petition-sampled</td>\n",
       "      <td>주택청약조건 변경해주세요.</td>\n",
       "      <td>주택청약 무주택기준 변경해주세요.</td>\n",
       "      <td>2.4</td>\n",
       "      <td>0.0</td>\n",
       "    </tr>\n",
       "    <tr>\n",
       "      <th>3</th>\n",
       "      <td>boostcamp-sts-v1-train-003</td>\n",
       "      <td>slack-sampled</td>\n",
       "      <td>입사후 처음 대면으로 만나 반가웠습니다.</td>\n",
       "      <td>화상으로만 보다가 리얼로 만나니 정말 반가웠습니다.</td>\n",
       "      <td>3.0</td>\n",
       "      <td>1.0</td>\n",
       "    </tr>\n",
       "    <tr>\n",
       "      <th>4</th>\n",
       "      <td>boostcamp-sts-v1-train-004</td>\n",
       "      <td>slack-sampled</td>\n",
       "      <td>뿌듯뿌듯 하네요!!</td>\n",
       "      <td>꼬옥 실제로 한번 뵈어요 뿌뿌뿌~!~!</td>\n",
       "      <td>0.0</td>\n",
       "      <td>0.0</td>\n",
       "    </tr>\n",
       "  </tbody>\n",
       "</table>\n",
       "</div>"
      ],
      "text/plain": [
       "                           id            source  \\\n",
       "0  boostcamp-sts-v1-train-000      nsmc-sampled   \n",
       "1  boostcamp-sts-v1-train-001         slack-rtt   \n",
       "2  boostcamp-sts-v1-train-002  petition-sampled   \n",
       "3  boostcamp-sts-v1-train-003     slack-sampled   \n",
       "4  boostcamp-sts-v1-train-004     slack-sampled   \n",
       "\n",
       "                               sentence_1                    sentence_2  \\\n",
       "0  스릴도있고 반전도 있고 여느 한국영화 쓰레기들하고는 차원이 다르네요~          반전도 있고,사랑도 있고재미도있네요.   \n",
       "1                    앗 제가 접근권한이 없다고 뜹니다;;           오, 액세스 권한이 없다고 합니다.   \n",
       "2                          주택청약조건 변경해주세요.            주택청약 무주택기준 변경해주세요.   \n",
       "3                  입사후 처음 대면으로 만나 반가웠습니다.  화상으로만 보다가 리얼로 만나니 정말 반가웠습니다.   \n",
       "4                              뿌듯뿌듯 하네요!!         꼬옥 실제로 한번 뵈어요 뿌뿌뿌~!~!   \n",
       "\n",
       "   label  binary-label  \n",
       "0    2.2           0.0  \n",
       "1    4.2           1.0  \n",
       "2    2.4           0.0  \n",
       "3    3.0           1.0  \n",
       "4    0.0           0.0  "
      ]
     },
     "execution_count": 3,
     "metadata": {},
     "output_type": "execute_result"
    }
   ],
   "source": [
    "train_df = pd.read_csv('train.csv')\n",
    "train_df.head()"
   ]
  },
  {
   "cell_type": "code",
   "execution_count": 4,
   "metadata": {},
   "outputs": [
    {
     "data": {
      "text/plain": [
       "(Index(['id', 'source', 'sentence_1', 'sentence_2', 'label', 'binary-label'], dtype='object'),\n",
       " (9324, 6))"
      ]
     },
     "execution_count": 4,
     "metadata": {},
     "output_type": "execute_result"
    }
   ],
   "source": [
    "train_df.columns, train_df.shape"
   ]
  },
  {
   "cell_type": "code",
   "execution_count": 5,
   "metadata": {},
   "outputs": [
    {
     "data": {
      "text/html": [
       "<div>\n",
       "<style scoped>\n",
       "    .dataframe tbody tr th:only-of-type {\n",
       "        vertical-align: middle;\n",
       "    }\n",
       "\n",
       "    .dataframe tbody tr th {\n",
       "        vertical-align: top;\n",
       "    }\n",
       "\n",
       "    .dataframe thead th {\n",
       "        text-align: right;\n",
       "    }\n",
       "</style>\n",
       "<table border=\"1\" class=\"dataframe\">\n",
       "  <thead>\n",
       "    <tr style=\"text-align: right;\">\n",
       "      <th></th>\n",
       "      <th>id</th>\n",
       "      <th>source</th>\n",
       "      <th>sentence_1</th>\n",
       "      <th>sentence_2</th>\n",
       "      <th>label</th>\n",
       "      <th>binary-label</th>\n",
       "    </tr>\n",
       "  </thead>\n",
       "  <tbody>\n",
       "    <tr>\n",
       "      <th>0</th>\n",
       "      <td>boostcamp-sts-v1-dev-000</td>\n",
       "      <td>nsmc-sampled</td>\n",
       "      <td>액션은개뿔 총몇번쏘고 끝입니다</td>\n",
       "      <td>액션은 흉내만 내고 그마저도 후반부에는 슬로우모션 처리</td>\n",
       "      <td>2.0</td>\n",
       "      <td>0.0</td>\n",
       "    </tr>\n",
       "    <tr>\n",
       "      <th>1</th>\n",
       "      <td>boostcamp-sts-v1-dev-001</td>\n",
       "      <td>slack-rtt</td>\n",
       "      <td>감격스러워 입막으심?</td>\n",
       "      <td>너무 감동해서 입 다물어?</td>\n",
       "      <td>3.4</td>\n",
       "      <td>1.0</td>\n",
       "    </tr>\n",
       "    <tr>\n",
       "      <th>2</th>\n",
       "      <td>boostcamp-sts-v1-dev-002</td>\n",
       "      <td>nsmc-rtt</td>\n",
       "      <td>이번 년도에 본 영화 중 가장 최악의 영화......</td>\n",
       "      <td>올해 본 영화 중 최악...</td>\n",
       "      <td>4.0</td>\n",
       "      <td>1.0</td>\n",
       "    </tr>\n",
       "    <tr>\n",
       "      <th>3</th>\n",
       "      <td>boostcamp-sts-v1-dev-003</td>\n",
       "      <td>slack-rtt</td>\n",
       "      <td>특히 평소 뮤직채널에 많은 영감을 불어넣어주시는!</td>\n",
       "      <td>특히, 당신은 항상 많은 음악 채널에 영감을 줍니다!</td>\n",
       "      <td>3.4</td>\n",
       "      <td>1.0</td>\n",
       "    </tr>\n",
       "    <tr>\n",
       "      <th>4</th>\n",
       "      <td>boostcamp-sts-v1-dev-004</td>\n",
       "      <td>slack-sampled</td>\n",
       "      <td>다음 밥스테이지가 기대됩니다~ ㅎ</td>\n",
       "      <td>다음 후기도 기대됩니다~~</td>\n",
       "      <td>1.4</td>\n",
       "      <td>0.0</td>\n",
       "    </tr>\n",
       "  </tbody>\n",
       "</table>\n",
       "</div>"
      ],
      "text/plain": [
       "                         id         source                     sentence_1  \\\n",
       "0  boostcamp-sts-v1-dev-000   nsmc-sampled               액션은개뿔 총몇번쏘고 끝입니다   \n",
       "1  boostcamp-sts-v1-dev-001      slack-rtt                    감격스러워 입막으심?   \n",
       "2  boostcamp-sts-v1-dev-002       nsmc-rtt  이번 년도에 본 영화 중 가장 최악의 영화......   \n",
       "3  boostcamp-sts-v1-dev-003      slack-rtt    특히 평소 뮤직채널에 많은 영감을 불어넣어주시는!   \n",
       "4  boostcamp-sts-v1-dev-004  slack-sampled             다음 밥스테이지가 기대됩니다~ ㅎ   \n",
       "\n",
       "                       sentence_2  label  binary-label  \n",
       "0  액션은 흉내만 내고 그마저도 후반부에는 슬로우모션 처리    2.0           0.0  \n",
       "1                  너무 감동해서 입 다물어?    3.4           1.0  \n",
       "2                 올해 본 영화 중 최악...    4.0           1.0  \n",
       "3   특히, 당신은 항상 많은 음악 채널에 영감을 줍니다!    3.4           1.0  \n",
       "4                  다음 후기도 기대됩니다~~    1.4           0.0  "
      ]
     },
     "execution_count": 5,
     "metadata": {},
     "output_type": "execute_result"
    }
   ],
   "source": [
    "dev_df = pd.read_csv('dev.csv')\n",
    "dev_df.head()"
   ]
  },
  {
   "cell_type": "code",
   "execution_count": 6,
   "metadata": {},
   "outputs": [
    {
     "data": {
      "text/plain": [
       "(Index(['id', 'source', 'sentence_1', 'sentence_2', 'label', 'binary-label'], dtype='object'),\n",
       " (550, 6))"
      ]
     },
     "execution_count": 6,
     "metadata": {},
     "output_type": "execute_result"
    }
   ],
   "source": [
    "dev_df.columns, dev_df.shape"
   ]
  },
  {
   "cell_type": "code",
   "execution_count": 7,
   "metadata": {},
   "outputs": [],
   "source": [
    "def binarize(value):\n",
    "    if value >= 0 and value < 1:\n",
    "        return '0-1'\n",
    "    elif value >= 1 and value < 2:\n",
    "        return '1-2'\n",
    "    elif value >= 2 and value < 3:\n",
    "        return '2-3'\n",
    "    elif value >= 3 and value < 4:\n",
    "        return '3-4'\n",
    "    elif value >= 4 and value <= 5:\n",
    "        return '4-5'\n",
    "    else:\n",
    "        raise ValueError('Value out of range')"
   ]
  },
  {
   "cell_type": "code",
   "execution_count": 8,
   "metadata": {},
   "outputs": [],
   "source": [
    "train_df['bin-label'] = train_df['label'].apply(binarize)"
   ]
  },
  {
   "cell_type": "code",
   "execution_count": 9,
   "metadata": {},
   "outputs": [
    {
     "data": {
      "text/plain": [
       "<Axes: xlabel='bin-label'>"
      ]
     },
     "execution_count": 9,
     "metadata": {},
     "output_type": "execute_result"
    },
    {
     "data": {
      "image/png": "[encoded data removed]",
      "text/plain": [
       "<Figure size 640x480 with 1 Axes>"
      ]
     },
     "metadata": {},
     "output_type": "display_data"
    }
   ],
   "source": [
    "train_df['bin-label'].value_counts().sort_index().plot.bar()"
   ]
  },
  {
   "cell_type": "code",
   "execution_count": 18,
   "metadata": {},
   "outputs": [
    {
     "data": {
      "image/png": "[encoded data removed]",
      "text/plain": [
       "<Figure size 640x480 with 1 Axes>"
      ]
     },
     "metadata": {},
     "output_type": "display_data"
    }
   ],
   "source": [
    "ax = sns.histplot(train_df['label'], bins=50)\n",
    "for container in ax.containers:\n",
    "    ax.bar_label(container, fmt='%d', label_type='edge')"
   ]
  },
  {
   "cell_type": "code",
   "execution_count": 10,
   "metadata": {},
   "outputs": [],
   "source": [
    "dev_df['bin-label'] = dev_df['label'].apply(binarize)"
   ]
  },
  {
   "cell_type": "code",
   "execution_count": 11,
   "metadata": {},
   "outputs": [
    {
     "data": {
      "text/plain": [
       "<Axes: xlabel='bin-label'>"
      ]
     },
     "execution_count": 11,
     "metadata": {},
     "output_type": "execute_result"
    },
    {
     "data": {
      "image/png": "[encoded data removed]",
      "text/plain": [
       "<Figure size 640x480 with 1 Axes>"
      ]
     },
     "metadata": {},
     "output_type": "display_data"
    }
   ],
   "source": [
    "dev_df['bin-label'].value_counts().sort_index().plot.bar()"
   ]
  },
  {
   "cell_type": "code",
   "execution_count": 19,
   "metadata": {},
   "outputs": [
    {
     "data": {
      "text/html": [
       "<div>\n",
       "<style scoped>\n",
       "    .dataframe tbody tr th:only-of-type {\n",
       "        vertical-align: middle;\n",
       "    }\n",
       "\n",
       "    .dataframe tbody tr th {\n",
       "        vertical-align: top;\n",
       "    }\n",
       "\n",
       "    .dataframe thead th {\n",
       "        text-align: right;\n",
       "    }\n",
       "</style>\n",
       "<table border=\"1\" class=\"dataframe\">\n",
       "  <thead>\n",
       "    <tr style=\"text-align: right;\">\n",
       "      <th></th>\n",
       "      <th>id</th>\n",
       "      <th>source</th>\n",
       "      <th>sentence_1</th>\n",
       "      <th>sentence_2</th>\n",
       "      <th>label</th>\n",
       "      <th>predict</th>\n",
       "    </tr>\n",
       "  </thead>\n",
       "  <tbody>\n",
       "    <tr>\n",
       "      <th>0</th>\n",
       "      <td>boostcamp-sts-v1-dev-000</td>\n",
       "      <td>nsmc-sampled</td>\n",
       "      <td>액션은개뿔 총몇번쏘고 끝입니다</td>\n",
       "      <td>액션은 흉내만 내고 그마저도 후반부에는 슬로우모션 처리</td>\n",
       "      <td>2.0</td>\n",
       "      <td>2.0</td>\n",
       "    </tr>\n",
       "    <tr>\n",
       "      <th>1</th>\n",
       "      <td>boostcamp-sts-v1-dev-001</td>\n",
       "      <td>slack-rtt</td>\n",
       "      <td>감격스러워 입막으심?</td>\n",
       "      <td>너무 감동해서 입 다물어?</td>\n",
       "      <td>3.4</td>\n",
       "      <td>3.5</td>\n",
       "    </tr>\n",
       "    <tr>\n",
       "      <th>2</th>\n",
       "      <td>boostcamp-sts-v1-dev-002</td>\n",
       "      <td>nsmc-rtt</td>\n",
       "      <td>이번 년도에 본 영화 중 가장 최악의 영화......</td>\n",
       "      <td>올해 본 영화 중 최악...</td>\n",
       "      <td>4.0</td>\n",
       "      <td>4.1</td>\n",
       "    </tr>\n",
       "    <tr>\n",
       "      <th>3</th>\n",
       "      <td>boostcamp-sts-v1-dev-003</td>\n",
       "      <td>slack-rtt</td>\n",
       "      <td>특히 평소 뮤직채널에 많은 영감을 불어넣어주시는!</td>\n",
       "      <td>특히, 당신은 항상 많은 음악 채널에 영감을 줍니다!</td>\n",
       "      <td>3.4</td>\n",
       "      <td>3.9</td>\n",
       "    </tr>\n",
       "    <tr>\n",
       "      <th>4</th>\n",
       "      <td>boostcamp-sts-v1-dev-004</td>\n",
       "      <td>slack-sampled</td>\n",
       "      <td>다음 밥스테이지가 기대됩니다~ ㅎ</td>\n",
       "      <td>다음 후기도 기대됩니다~~</td>\n",
       "      <td>1.4</td>\n",
       "      <td>1.9</td>\n",
       "    </tr>\n",
       "  </tbody>\n",
       "</table>\n",
       "</div>"
      ],
      "text/plain": [
       "                         id         source                     sentence_1  \\\n",
       "0  boostcamp-sts-v1-dev-000   nsmc-sampled               액션은개뿔 총몇번쏘고 끝입니다   \n",
       "1  boostcamp-sts-v1-dev-001      slack-rtt                    감격스러워 입막으심?   \n",
       "2  boostcamp-sts-v1-dev-002       nsmc-rtt  이번 년도에 본 영화 중 가장 최악의 영화......   \n",
       "3  boostcamp-sts-v1-dev-003      slack-rtt    특히 평소 뮤직채널에 많은 영감을 불어넣어주시는!   \n",
       "4  boostcamp-sts-v1-dev-004  slack-sampled             다음 밥스테이지가 기대됩니다~ ㅎ   \n",
       "\n",
       "                       sentence_2  label  predict  \n",
       "0  액션은 흉내만 내고 그마저도 후반부에는 슬로우모션 처리    2.0      2.0  \n",
       "1                  너무 감동해서 입 다물어?    3.4      3.5  \n",
       "2                 올해 본 영화 중 최악...    4.0      4.1  \n",
       "3   특히, 당신은 항상 많은 음악 채널에 영감을 줍니다!    3.4      3.9  \n",
       "4                  다음 후기도 기대됩니다~~    1.4      1.9  "
      ]
     },
     "execution_count": 19,
     "metadata": {},
     "output_type": "execute_result"
    }
   ],
   "source": [
    "output_df = pd.read_csv('../test_outputs/snunlp/KR-ELECTRA-discriminator_v01_32_50_4e-05_007_02336_0.935_20231218_024542.csv')\n",
    "output_df.head()"
   ]
  },
  {
   "cell_type": "code",
   "execution_count": 20,
   "metadata": {},
   "outputs": [
    {
     "data": {
      "text/plain": [
       "<Axes: xlabel='label', ylabel='Count'>"
      ]
     },
     "execution_count": 20,
     "metadata": {},
     "output_type": "execute_result"
    },
    {
     "data": {
      "image/png": "[encoded data removed]",
      "text/plain": [
       "<Figure size 640x480 with 1 Axes>"
      ]
     },
     "metadata": {},
     "output_type": "display_data"
    }
   ],
   "source": [
    "bins = 50\n",
    "sns.histplot(output_df['label'], bins=bins, kde=False, color='red', alpha=0.8)\n",
    "sns.histplot(output_df['predict'], bins=bins, kde=False, color='blue', alpha=0.5)"
   ]
  },
  {
   "cell_type": "code",
   "execution_count": 23,
   "metadata": {},
   "outputs": [],
   "source": [
    "temp_df = output_df.copy()\n",
    "temp_df['diff'] = temp_df['predict'] - temp_df['label']"
   ]
  },
  {
   "cell_type": "code",
   "execution_count": 24,
   "metadata": {},
   "outputs": [
    {
     "data": {
      "image/png": "[encoded data removed]",
      "text/plain": [
       "<Figure size 640x480 with 1 Axes>"
      ]
     },
     "metadata": {},
     "output_type": "display_data"
    }
   ],
   "source": [
    "ax = temp_df[temp_df['predict']>5]['diff'].apply(lambda x: round(x, 3)).value_counts().sort_index().plot.bar()\n",
    "for container in ax.containers:\n",
    "    ax.bar_label(container, fmt='%d', label_type='edge')"
   ]
  },
  {
   "cell_type": "code",
   "execution_count": 25,
   "metadata": {},
   "outputs": [
    {
     "data": {
      "text/plain": [
       "array([0. , 0.1, 0.2, 0.3, 0.4, 0.5, 0.6, 0.7, 0.8, 0.9, 1. , 1.1, 1.2,\n",
       "       1.3, 1.4, 1.5, 1.6, 1.7, 1.8, 1.9, 2. , 2.1, 2.2, 2.3, 2.4, 2.5,\n",
       "       2.6, 2.7, 2.8, 2.9, 3. , 3.1, 3.2, 3.3, 3.4, 3.5, 3.6, 3.7, 3.8,\n",
       "       3.9, 4. , 4.1, 4.2, 4.3, 4.4, 4.5, 4.6, 4.7, 4.8, 4.9, 5. ])"
      ]
     },
     "execution_count": 25,
     "metadata": {},
     "output_type": "execute_result"
    }
   ],
   "source": [
    "all_range = np.linspace(0, 5, 51)\n",
    "all_range"
   ]
  },
  {
   "cell_type": "code",
   "execution_count": 26,
   "metadata": {},
   "outputs": [
    {
     "data": {
      "text/plain": [
       "array([2. , 3.4, 4. , 1.4, 2.4, 1.2, 4.6, 3. , 2.8, 3.2, 0. , 2.2, 2.6,\n",
       "       3.8, 1.6, 0.8, 0.6, 4.4, 1. , 1.8, 5. , 4.2, 3.6, 0.4, 4.8, 4.5,\n",
       "       1.5, 3.5, 0.2, 0.5])"
      ]
     },
     "execution_count": 26,
     "metadata": {},
     "output_type": "execute_result"
    }
   ],
   "source": [
    "exist_range = output_df['label'].unique()\n",
    "exist_range"
   ]
  },
  {
   "cell_type": "code",
   "execution_count": 27,
   "metadata": {},
   "outputs": [
    {
     "data": {
      "text/plain": [
       "array([0.1, 0.3, 0.6, 0.7, 0.9, 1.1, 1.2, 1.3, 1.4, 1.7, 1.9, 2.1, 2.3,\n",
       "       2.4, 2.5, 2.7, 2.8, 2.9, 3.1, 3.3, 3.4, 3.7, 3.8, 3.9, 4.1, 4.3,\n",
       "       4.6, 4.7, 4.8, 4.9])"
      ]
     },
     "execution_count": 27,
     "metadata": {},
     "output_type": "execute_result"
    }
   ],
   "source": [
    "not_exist_range = np.setdiff1d(all_range, exist_range)\n",
    "not_exist_range"
   ]
  },
  {
   "cell_type": "code",
   "execution_count": null,
   "metadata": {},
   "outputs": [],
   "source": []
  },
  {
   "cell_type": "code",
   "execution_count": 28,
   "metadata": {},
   "outputs": [
    {
     "data": {
      "text/html": [
       "<div>\n",
       "<style scoped>\n",
       "    .dataframe tbody tr th:only-of-type {\n",
       "        vertical-align: middle;\n",
       "    }\n",
       "\n",
       "    .dataframe tbody tr th {\n",
       "        vertical-align: top;\n",
       "    }\n",
       "\n",
       "    .dataframe thead th {\n",
       "        text-align: right;\n",
       "    }\n",
       "</style>\n",
       "<table border=\"1\" class=\"dataframe\">\n",
       "  <thead>\n",
       "    <tr style=\"text-align: right;\">\n",
       "      <th></th>\n",
       "      <th>id</th>\n",
       "      <th>source</th>\n",
       "      <th>sentence_1</th>\n",
       "      <th>sentence_2</th>\n",
       "      <th>label</th>\n",
       "      <th>predict</th>\n",
       "    </tr>\n",
       "  </thead>\n",
       "  <tbody>\n",
       "    <tr>\n",
       "      <th>7</th>\n",
       "      <td>boostcamp-sts-v1-dev-007</td>\n",
       "      <td>slack-sampled</td>\n",
       "      <td>건강하게 자라기를!!</td>\n",
       "      <td>얼른 건강 회복하기를요!!!</td>\n",
       "      <td>1.2</td>\n",
       "      <td>1.3</td>\n",
       "    </tr>\n",
       "    <tr>\n",
       "      <th>19</th>\n",
       "      <td>boostcamp-sts-v1-dev-019</td>\n",
       "      <td>nsmc-sampled</td>\n",
       "      <td>매튜본 대단한 감독이엇다는걸 새삼절감</td>\n",
       "      <td>어메이징 보다가 이걸 보면 샘 레이미가 얼마나 쩌는 감독인지 새삼 느끼게 됨...</td>\n",
       "      <td>1.2</td>\n",
       "      <td>0.8</td>\n",
       "    </tr>\n",
       "    <tr>\n",
       "      <th>35</th>\n",
       "      <td>boostcamp-sts-v1-dev-035</td>\n",
       "      <td>slack-sampled</td>\n",
       "      <td>스터디도 함께 일정이 정리되어 있으면 좋겠습니다.</td>\n",
       "      <td>이번주 스터디는 잠시 쉬어갑니다~</td>\n",
       "      <td>1.2</td>\n",
       "      <td>1.0</td>\n",
       "    </tr>\n",
       "    <tr>\n",
       "      <th>53</th>\n",
       "      <td>boostcamp-sts-v1-dev-053</td>\n",
       "      <td>nsmc-sampled</td>\n",
       "      <td>평점대비 너무 하네요~</td>\n",
       "      <td>평점 너무 낮아..</td>\n",
       "      <td>1.2</td>\n",
       "      <td>2.2</td>\n",
       "    </tr>\n",
       "    <tr>\n",
       "      <th>129</th>\n",
       "      <td>boostcamp-sts-v1-dev-129</td>\n",
       "      <td>petition-sampled</td>\n",
       "      <td>북한 예술단에 합류 하길 청원 합니다</td>\n",
       "      <td>평양 예술공연에 \"백지영 제외\" 청원합니다.</td>\n",
       "      <td>1.2</td>\n",
       "      <td>0.9</td>\n",
       "    </tr>\n",
       "    <tr>\n",
       "      <th>132</th>\n",
       "      <td>boostcamp-sts-v1-dev-132</td>\n",
       "      <td>nsmc-sampled</td>\n",
       "      <td>어른이 보기에도 잼남...</td>\n",
       "      <td>역시 어른들이 보기에는 별로였다..ㅋ</td>\n",
       "      <td>1.2</td>\n",
       "      <td>0.7</td>\n",
       "    </tr>\n",
       "    <tr>\n",
       "      <th>159</th>\n",
       "      <td>boostcamp-sts-v1-dev-159</td>\n",
       "      <td>slack-sampled</td>\n",
       "      <td>우리 회사만의 멋진 교육을 만들어나가기 위한 여러 이야기를 함께 나누면서 우리 회사...</td>\n",
       "      <td>그리고 앞으로 저희 회사가 나아가야 할 방향성과 단기 목표에 대해서 보다 명확하게 ...</td>\n",
       "      <td>1.2</td>\n",
       "      <td>1.0</td>\n",
       "    </tr>\n",
       "    <tr>\n",
       "      <th>171</th>\n",
       "      <td>boostcamp-sts-v1-dev-171</td>\n",
       "      <td>petition-rtt</td>\n",
       "      <td>(선언만 해두고 차후에 적정시점 실행)</td>\n",
       "      <td>(나중에 적절한 시점에 선언하고 실행하면 됨)</td>\n",
       "      <td>1.2</td>\n",
       "      <td>4.0</td>\n",
       "    </tr>\n",
       "    <tr>\n",
       "      <th>180</th>\n",
       "      <td>boostcamp-sts-v1-dev-180</td>\n",
       "      <td>slack-sampled</td>\n",
       "      <td>스쿼시 예습하러 갑니다 고고</td>\n",
       "      <td>한국 스쿼시 번개 기대 됩니다.</td>\n",
       "      <td>1.2</td>\n",
       "      <td>1.1</td>\n",
       "    </tr>\n",
       "    <tr>\n",
       "      <th>239</th>\n",
       "      <td>boostcamp-sts-v1-dev-239</td>\n",
       "      <td>nsmc-sampled</td>\n",
       "      <td>그 %때문에.. 평점은 확..</td>\n",
       "      <td>웃기고..슬프고..눈물나고..행복해지는..근데..평점이 왜케 짜~</td>\n",
       "      <td>1.2</td>\n",
       "      <td>0.9</td>\n",
       "    </tr>\n",
       "    <tr>\n",
       "      <th>263</th>\n",
       "      <td>boostcamp-sts-v1-dev-263</td>\n",
       "      <td>petition-sampled</td>\n",
       "      <td>주식시장 코스피 코스닥 폐쇄해주시길 바랍니다.</td>\n",
       "      <td>대한민국 국민이 주가된 코스피 코스닥을 만들어주세요</td>\n",
       "      <td>1.2</td>\n",
       "      <td>0.8</td>\n",
       "    </tr>\n",
       "    <tr>\n",
       "      <th>267</th>\n",
       "      <td>boostcamp-sts-v1-dev-267</td>\n",
       "      <td>nsmc-sampled</td>\n",
       "      <td>기자/평론가들 태반일거임ㅋ</td>\n",
       "      <td>기자랑 평론가들이 뭐 늘 그렇지..되도않는 지식인들..</td>\n",
       "      <td>1.2</td>\n",
       "      <td>1.8</td>\n",
       "    </tr>\n",
       "    <tr>\n",
       "      <th>285</th>\n",
       "      <td>boostcamp-sts-v1-dev-285</td>\n",
       "      <td>petition-sampled</td>\n",
       "      <td>부동산 양극화 주범</td>\n",
       "      <td>정부는 책임지고 부동산 양극화 해결해주세요</td>\n",
       "      <td>1.2</td>\n",
       "      <td>2.3</td>\n",
       "    </tr>\n",
       "    <tr>\n",
       "      <th>326</th>\n",
       "      <td>boostcamp-sts-v1-dev-326</td>\n",
       "      <td>slack-sampled</td>\n",
       "      <td>전 여기 차타고 가려고요</td>\n",
       "      <td>오 차타고 5분거리네요 ㅋㅋ</td>\n",
       "      <td>1.2</td>\n",
       "      <td>0.9</td>\n",
       "    </tr>\n",
       "    <tr>\n",
       "      <th>339</th>\n",
       "      <td>boostcamp-sts-v1-dev-339</td>\n",
       "      <td>slack-sampled</td>\n",
       "      <td>저도 슬슬 공부 시작했습니다.</td>\n",
       "      <td>일 오래하고 다시 공부하다는 게 저는 신기했습니다.</td>\n",
       "      <td>1.2</td>\n",
       "      <td>1.2</td>\n",
       "    </tr>\n",
       "    <tr>\n",
       "      <th>347</th>\n",
       "      <td>boostcamp-sts-v1-dev-347</td>\n",
       "      <td>petition-sampled</td>\n",
       "      <td>북한에 대한 환상 깨라</td>\n",
       "      <td>북한에 끌려다니지 마십시오.</td>\n",
       "      <td>1.2</td>\n",
       "      <td>2.1</td>\n",
       "    </tr>\n",
       "    <tr>\n",
       "      <th>372</th>\n",
       "      <td>boostcamp-sts-v1-dev-372</td>\n",
       "      <td>slack-sampled</td>\n",
       "      <td>갤러리아 백화점 투어도 했는데 스카이워크 넘 재밌었습니당</td>\n",
       "      <td>갤러리아백화점에 프리스비가 있습니다</td>\n",
       "      <td>1.2</td>\n",
       "      <td>1.0</td>\n",
       "    </tr>\n",
       "    <tr>\n",
       "      <th>375</th>\n",
       "      <td>boostcamp-sts-v1-dev-375</td>\n",
       "      <td>nsmc-sampled</td>\n",
       "      <td>난 뭐 로맨틱하고 설레이는 싱글녀의 러브스토리인줄알았다.</td>\n",
       "      <td>[러브스토리]의 어설픈 재탕..</td>\n",
       "      <td>1.2</td>\n",
       "      <td>1.1</td>\n",
       "    </tr>\n",
       "    <tr>\n",
       "      <th>387</th>\n",
       "      <td>boostcamp-sts-v1-dev-387</td>\n",
       "      <td>petition-sampled</td>\n",
       "      <td>크림하우스 네이처 매트 (아기 매트)</td>\n",
       "      <td>크림하우스 매트 전면판매불가조치 및 환불</td>\n",
       "      <td>1.2</td>\n",
       "      <td>1.1</td>\n",
       "    </tr>\n",
       "    <tr>\n",
       "      <th>400</th>\n",
       "      <td>boostcamp-sts-v1-dev-400</td>\n",
       "      <td>nsmc-sampled</td>\n",
       "      <td>식스센스 영화감독이었다는게 리얼 반전..</td>\n",
       "      <td>식스센스의 전형적인 아류작이라고 보면 된다.</td>\n",
       "      <td>1.2</td>\n",
       "      <td>1.1</td>\n",
       "    </tr>\n",
       "    <tr>\n",
       "      <th>402</th>\n",
       "      <td>boostcamp-sts-v1-dev-402</td>\n",
       "      <td>slack-sampled</td>\n",
       "      <td>어제는 &lt;PERSON&gt; 님과 점심을 같이 먹었습니다~</td>\n",
       "      <td>오늘은 &lt;PERSON&gt; 님과 회식 시간을 가졌습니다 ~~!</td>\n",
       "      <td>1.2</td>\n",
       "      <td>1.3</td>\n",
       "    </tr>\n",
       "    <tr>\n",
       "      <th>451</th>\n",
       "      <td>boostcamp-sts-v1-dev-451</td>\n",
       "      <td>slack-sampled</td>\n",
       "      <td>금전수는 그냥 평생 푸른 잎만 보여주는 줄 알았는데.. 꽃대가 여러 개 올라오는거 있죠!</td>\n",
       "      <td>우와아아 금전수 꽃 피는 줄 처음 알았어요!</td>\n",
       "      <td>1.2</td>\n",
       "      <td>1.1</td>\n",
       "    </tr>\n",
       "    <tr>\n",
       "      <th>477</th>\n",
       "      <td>boostcamp-sts-v1-dev-477</td>\n",
       "      <td>slack-sampled</td>\n",
       "      <td>막국수 에세이 ㅋㅋㅋ</td>\n",
       "      <td>오 막국수 킬러ㅋㅋㅋ 고기리 막국수 안가보셨다면 한번 모시겠습니다ㅎㅎ</td>\n",
       "      <td>1.2</td>\n",
       "      <td>0.8</td>\n",
       "    </tr>\n",
       "    <tr>\n",
       "      <th>499</th>\n",
       "      <td>boostcamp-sts-v1-dev-499</td>\n",
       "      <td>petition-sampled</td>\n",
       "      <td>집값폭등과 금리인상</td>\n",
       "      <td>세월호참사, 4대강사업 &lt;&lt; 집값폭등</td>\n",
       "      <td>1.2</td>\n",
       "      <td>1.5</td>\n",
       "    </tr>\n",
       "    <tr>\n",
       "      <th>508</th>\n",
       "      <td>boostcamp-sts-v1-dev-508</td>\n",
       "      <td>petition-sampled</td>\n",
       "      <td>드디어 미국도 가상화폐의 폐혜를 조금씩 인정하기 시작하는군요</td>\n",
       "      <td>세계적인 가상화폐의 흐름을 막을수 없습니다.</td>\n",
       "      <td>1.2</td>\n",
       "      <td>1.0</td>\n",
       "    </tr>\n",
       "    <tr>\n",
       "      <th>510</th>\n",
       "      <td>boostcamp-sts-v1-dev-510</td>\n",
       "      <td>nsmc-rtt</td>\n",
       "      <td>주식할 때 빛지면 골로간다</td>\n",
       "      <td>스타킹 때 빛나면 골로 간다</td>\n",
       "      <td>1.2</td>\n",
       "      <td>1.9</td>\n",
       "    </tr>\n",
       "    <tr>\n",
       "      <th>513</th>\n",
       "      <td>boostcamp-sts-v1-dev-513</td>\n",
       "      <td>nsmc-sampled</td>\n",
       "      <td>무심코 봤지만 너무 많은걸 얻어간 영화.</td>\n",
       "      <td>굉장히 멋있었던 영화로 기억함. 옛날에 봤지만.</td>\n",
       "      <td>1.2</td>\n",
       "      <td>0.5</td>\n",
       "    </tr>\n",
       "  </tbody>\n",
       "</table>\n",
       "</div>"
      ],
      "text/plain": [
       "                           id            source  \\\n",
       "7    boostcamp-sts-v1-dev-007     slack-sampled   \n",
       "19   boostcamp-sts-v1-dev-019      nsmc-sampled   \n",
       "35   boostcamp-sts-v1-dev-035     slack-sampled   \n",
       "53   boostcamp-sts-v1-dev-053      nsmc-sampled   \n",
       "129  boostcamp-sts-v1-dev-129  petition-sampled   \n",
       "132  boostcamp-sts-v1-dev-132      nsmc-sampled   \n",
       "159  boostcamp-sts-v1-dev-159     slack-sampled   \n",
       "171  boostcamp-sts-v1-dev-171      petition-rtt   \n",
       "180  boostcamp-sts-v1-dev-180     slack-sampled   \n",
       "239  boostcamp-sts-v1-dev-239      nsmc-sampled   \n",
       "263  boostcamp-sts-v1-dev-263  petition-sampled   \n",
       "267  boostcamp-sts-v1-dev-267      nsmc-sampled   \n",
       "285  boostcamp-sts-v1-dev-285  petition-sampled   \n",
       "326  boostcamp-sts-v1-dev-326     slack-sampled   \n",
       "339  boostcamp-sts-v1-dev-339     slack-sampled   \n",
       "347  boostcamp-sts-v1-dev-347  petition-sampled   \n",
       "372  boostcamp-sts-v1-dev-372     slack-sampled   \n",
       "375  boostcamp-sts-v1-dev-375      nsmc-sampled   \n",
       "387  boostcamp-sts-v1-dev-387  petition-sampled   \n",
       "400  boostcamp-sts-v1-dev-400      nsmc-sampled   \n",
       "402  boostcamp-sts-v1-dev-402     slack-sampled   \n",
       "451  boostcamp-sts-v1-dev-451     slack-sampled   \n",
       "477  boostcamp-sts-v1-dev-477     slack-sampled   \n",
       "499  boostcamp-sts-v1-dev-499  petition-sampled   \n",
       "508  boostcamp-sts-v1-dev-508  petition-sampled   \n",
       "510  boostcamp-sts-v1-dev-510          nsmc-rtt   \n",
       "513  boostcamp-sts-v1-dev-513      nsmc-sampled   \n",
       "\n",
       "                                            sentence_1  \\\n",
       "7                                          건강하게 자라기를!!   \n",
       "19                                매튜본 대단한 감독이엇다는걸 새삼절감   \n",
       "35                         스터디도 함께 일정이 정리되어 있으면 좋겠습니다.   \n",
       "53                                        평점대비 너무 하네요~   \n",
       "129                               북한 예술단에 합류 하길 청원 합니다   \n",
       "132                                     어른이 보기에도 잼남...   \n",
       "159  우리 회사만의 멋진 교육을 만들어나가기 위한 여러 이야기를 함께 나누면서 우리 회사...   \n",
       "171                              (선언만 해두고 차후에 적정시점 실행)   \n",
       "180                                    스쿼시 예습하러 갑니다 고고   \n",
       "239                                   그 %때문에.. 평점은 확..   \n",
       "263                          주식시장 코스피 코스닥 폐쇄해주시길 바랍니다.   \n",
       "267                                     기자/평론가들 태반일거임ㅋ   \n",
       "285                                         부동산 양극화 주범   \n",
       "326                                      전 여기 차타고 가려고요   \n",
       "339                                   저도 슬슬 공부 시작했습니다.   \n",
       "347                                       북한에 대한 환상 깨라   \n",
       "372                    갤러리아 백화점 투어도 했는데 스카이워크 넘 재밌었습니당   \n",
       "375                    난 뭐 로맨틱하고 설레이는 싱글녀의 러브스토리인줄알았다.   \n",
       "387                               크림하우스 네이처 매트 (아기 매트)   \n",
       "400                             식스센스 영화감독이었다는게 리얼 반전..   \n",
       "402                      어제는 <PERSON> 님과 점심을 같이 먹었습니다~   \n",
       "451  금전수는 그냥 평생 푸른 잎만 보여주는 줄 알았는데.. 꽃대가 여러 개 올라오는거 있죠!   \n",
       "477                                        막국수 에세이 ㅋㅋㅋ   \n",
       "499                                         집값폭등과 금리인상   \n",
       "508                  드디어 미국도 가상화폐의 폐혜를 조금씩 인정하기 시작하는군요   \n",
       "510                                     주식할 때 빛지면 골로간다   \n",
       "513                             무심코 봤지만 너무 많은걸 얻어간 영화.   \n",
       "\n",
       "                                            sentence_2  label  predict  \n",
       "7                                      얼른 건강 회복하기를요!!!    1.2      1.3  \n",
       "19       어메이징 보다가 이걸 보면 샘 레이미가 얼마나 쩌는 감독인지 새삼 느끼게 됨...    1.2      0.8  \n",
       "35                                  이번주 스터디는 잠시 쉬어갑니다~    1.2      1.0  \n",
       "53                                          평점 너무 낮아..    1.2      2.2  \n",
       "129                           평양 예술공연에 \"백지영 제외\" 청원합니다.    1.2      0.9  \n",
       "132                               역시 어른들이 보기에는 별로였다..ㅋ    1.2      0.7  \n",
       "159  그리고 앞으로 저희 회사가 나아가야 할 방향성과 단기 목표에 대해서 보다 명확하게 ...    1.2      1.0  \n",
       "171                          (나중에 적절한 시점에 선언하고 실행하면 됨)    1.2      4.0  \n",
       "180                                  한국 스쿼시 번개 기대 됩니다.    1.2      1.1  \n",
       "239               웃기고..슬프고..눈물나고..행복해지는..근데..평점이 왜케 짜~    1.2      0.9  \n",
       "263                       대한민국 국민이 주가된 코스피 코스닥을 만들어주세요    1.2      0.8  \n",
       "267                     기자랑 평론가들이 뭐 늘 그렇지..되도않는 지식인들..    1.2      1.8  \n",
       "285                            정부는 책임지고 부동산 양극화 해결해주세요    1.2      2.3  \n",
       "326                                    오 차타고 5분거리네요 ㅋㅋ    1.2      0.9  \n",
       "339                       일 오래하고 다시 공부하다는 게 저는 신기했습니다.    1.2      1.2  \n",
       "347                                    북한에 끌려다니지 마십시오.    1.2      2.1  \n",
       "372                                갤러리아백화점에 프리스비가 있습니다    1.2      1.0  \n",
       "375                                  [러브스토리]의 어설픈 재탕..    1.2      1.1  \n",
       "387                             크림하우스 매트 전면판매불가조치 및 환불    1.2      1.1  \n",
       "400                           식스센스의 전형적인 아류작이라고 보면 된다.    1.2      1.1  \n",
       "402                   오늘은 <PERSON> 님과 회식 시간을 가졌습니다 ~~!    1.2      1.3  \n",
       "451                           우와아아 금전수 꽃 피는 줄 처음 알았어요!    1.2      1.1  \n",
       "477             오 막국수 킬러ㅋㅋㅋ 고기리 막국수 안가보셨다면 한번 모시겠습니다ㅎㅎ    1.2      0.8  \n",
       "499                               세월호참사, 4대강사업 << 집값폭등    1.2      1.5  \n",
       "508                           세계적인 가상화폐의 흐름을 막을수 없습니다.    1.2      1.0  \n",
       "510                                    스타킹 때 빛나면 골로 간다    1.2      1.9  \n",
       "513                         굉장히 멋있었던 영화로 기억함. 옛날에 봤지만.    1.2      0.5  "
      ]
     },
     "execution_count": 28,
     "metadata": {},
     "output_type": "execute_result"
    }
   ],
   "source": [
    "output_df[output_df['label'] == 1.2]"
   ]
  },
  {
   "cell_type": "code",
   "execution_count": 29,
   "metadata": {},
   "outputs": [
    {
     "data": {
      "text/html": [
       "<div>\n",
       "<style scoped>\n",
       "    .dataframe tbody tr th:only-of-type {\n",
       "        vertical-align: middle;\n",
       "    }\n",
       "\n",
       "    .dataframe tbody tr th {\n",
       "        vertical-align: top;\n",
       "    }\n",
       "\n",
       "    .dataframe thead th {\n",
       "        text-align: right;\n",
       "    }\n",
       "</style>\n",
       "<table border=\"1\" class=\"dataframe\">\n",
       "  <thead>\n",
       "    <tr style=\"text-align: right;\">\n",
       "      <th></th>\n",
       "      <th>id</th>\n",
       "      <th>source</th>\n",
       "      <th>sentence_1</th>\n",
       "      <th>sentence_2</th>\n",
       "      <th>label</th>\n",
       "      <th>binary-label</th>\n",
       "    </tr>\n",
       "  </thead>\n",
       "  <tbody>\n",
       "    <tr>\n",
       "      <th>0</th>\n",
       "      <td>boostcamp-sts-v1-train-000</td>\n",
       "      <td>nsmc-sampled</td>\n",
       "      <td>스릴도있고 반전도 있고 여느 한국영화 쓰레기들하고는 차원이 다르네요~</td>\n",
       "      <td>반전도 있고,사랑도 있고재미도있네요.</td>\n",
       "      <td>2.2</td>\n",
       "      <td>0.0</td>\n",
       "    </tr>\n",
       "    <tr>\n",
       "      <th>1</th>\n",
       "      <td>boostcamp-sts-v1-train-001</td>\n",
       "      <td>slack-rtt</td>\n",
       "      <td>앗 제가 접근권한이 없다고 뜹니다;;</td>\n",
       "      <td>오, 액세스 권한이 없다고 합니다.</td>\n",
       "      <td>4.2</td>\n",
       "      <td>1.0</td>\n",
       "    </tr>\n",
       "    <tr>\n",
       "      <th>2</th>\n",
       "      <td>boostcamp-sts-v1-train-002</td>\n",
       "      <td>petition-sampled</td>\n",
       "      <td>주택청약조건 변경해주세요.</td>\n",
       "      <td>주택청약 무주택기준 변경해주세요.</td>\n",
       "      <td>2.4</td>\n",
       "      <td>0.0</td>\n",
       "    </tr>\n",
       "    <tr>\n",
       "      <th>3</th>\n",
       "      <td>boostcamp-sts-v1-train-003</td>\n",
       "      <td>slack-sampled</td>\n",
       "      <td>입사후 처음 대면으로 만나 반가웠습니다.</td>\n",
       "      <td>화상으로만 보다가 리얼로 만나니 정말 반가웠습니다.</td>\n",
       "      <td>3.0</td>\n",
       "      <td>1.0</td>\n",
       "    </tr>\n",
       "    <tr>\n",
       "      <th>4</th>\n",
       "      <td>boostcamp-sts-v1-train-004</td>\n",
       "      <td>slack-sampled</td>\n",
       "      <td>뿌듯뿌듯 하네요!!</td>\n",
       "      <td>꼬옥 실제로 한번 뵈어요 뿌뿌뿌~!~!</td>\n",
       "      <td>0.0</td>\n",
       "      <td>0.0</td>\n",
       "    </tr>\n",
       "  </tbody>\n",
       "</table>\n",
       "</div>"
      ],
      "text/plain": [
       "                           id            source  \\\n",
       "0  boostcamp-sts-v1-train-000      nsmc-sampled   \n",
       "1  boostcamp-sts-v1-train-001         slack-rtt   \n",
       "2  boostcamp-sts-v1-train-002  petition-sampled   \n",
       "3  boostcamp-sts-v1-train-003     slack-sampled   \n",
       "4  boostcamp-sts-v1-train-004     slack-sampled   \n",
       "\n",
       "                               sentence_1                    sentence_2  \\\n",
       "0  스릴도있고 반전도 있고 여느 한국영화 쓰레기들하고는 차원이 다르네요~          반전도 있고,사랑도 있고재미도있네요.   \n",
       "1                    앗 제가 접근권한이 없다고 뜹니다;;           오, 액세스 권한이 없다고 합니다.   \n",
       "2                          주택청약조건 변경해주세요.            주택청약 무주택기준 변경해주세요.   \n",
       "3                  입사후 처음 대면으로 만나 반가웠습니다.  화상으로만 보다가 리얼로 만나니 정말 반가웠습니다.   \n",
       "4                              뿌듯뿌듯 하네요!!         꼬옥 실제로 한번 뵈어요 뿌뿌뿌~!~!   \n",
       "\n",
       "   label  binary-label  \n",
       "0    2.2           0.0  \n",
       "1    4.2           1.0  \n",
       "2    2.4           0.0  \n",
       "3    3.0           1.0  \n",
       "4    0.0           0.0  "
      ]
     },
     "execution_count": 29,
     "metadata": {},
     "output_type": "execute_result"
    }
   ],
   "source": [
    "new_train_df = train_df.drop(columns=['bin-label']).copy()\n",
    "new_train_df.head()"
   ]
  },
  {
   "cell_type": "code",
   "execution_count": 30,
   "metadata": {},
   "outputs": [
    {
     "data": {
      "text/html": [
       "<div>\n",
       "<style scoped>\n",
       "    .dataframe tbody tr th:only-of-type {\n",
       "        vertical-align: middle;\n",
       "    }\n",
       "\n",
       "    .dataframe tbody tr th {\n",
       "        vertical-align: top;\n",
       "    }\n",
       "\n",
       "    .dataframe thead th {\n",
       "        text-align: right;\n",
       "    }\n",
       "</style>\n",
       "<table border=\"1\" class=\"dataframe\">\n",
       "  <thead>\n",
       "    <tr style=\"text-align: right;\">\n",
       "      <th></th>\n",
       "      <th>id</th>\n",
       "      <th>source</th>\n",
       "      <th>sentence_1</th>\n",
       "      <th>sentence_2</th>\n",
       "      <th>label</th>\n",
       "      <th>binary-label</th>\n",
       "    </tr>\n",
       "  </thead>\n",
       "  <tbody>\n",
       "    <tr>\n",
       "      <th>9319</th>\n",
       "      <td>boostcamp-sts-v1-train-9319</td>\n",
       "      <td>petition-sampled</td>\n",
       "      <td>교원능력개발평가에서 교원이 보호받을 수 있는 장치를 마련해야합니다</td>\n",
       "      <td>본인이 납부한 국민연금 금액을 기준으로 대출을 받을 수 있는 제도를 마련해 주세요</td>\n",
       "      <td>0.2</td>\n",
       "      <td>0.0</td>\n",
       "    </tr>\n",
       "    <tr>\n",
       "      <th>9320</th>\n",
       "      <td>boostcamp-sts-v1-train-9320</td>\n",
       "      <td>petition-sampled</td>\n",
       "      <td>여성가족부의 폐지를 원합니드</td>\n",
       "      <td>여성가족부 폐지를 청원 합니다.</td>\n",
       "      <td>4.2</td>\n",
       "      <td>1.0</td>\n",
       "    </tr>\n",
       "    <tr>\n",
       "      <th>9321</th>\n",
       "      <td>boostcamp-sts-v1-train-9321</td>\n",
       "      <td>petition-sampled</td>\n",
       "      <td>국회의원들 월급좀 줄여주세요</td>\n",
       "      <td>공무원 봉급좀 줄이지좀 마세요</td>\n",
       "      <td>0.6</td>\n",
       "      <td>0.0</td>\n",
       "    </tr>\n",
       "    <tr>\n",
       "      <th>9322</th>\n",
       "      <td>boostcamp-sts-v1-train-9322</td>\n",
       "      <td>slack-sampled</td>\n",
       "      <td>오늘 못한 점심은 다음에 다시 츄라이 하기로 해요!!</td>\n",
       "      <td>오늘 못먹은 밥은 꼭 담에 먹기로 하고요!!</td>\n",
       "      <td>3.2</td>\n",
       "      <td>1.0</td>\n",
       "    </tr>\n",
       "    <tr>\n",
       "      <th>9323</th>\n",
       "      <td>boostcamp-sts-v1-train-9323</td>\n",
       "      <td>petition-sampled</td>\n",
       "      <td>법정공휴일 휴무관련 (근로자)</td>\n",
       "      <td>법정공휴일의 유급휴무화를 막아야 합니다.</td>\n",
       "      <td>1.4</td>\n",
       "      <td>0.0</td>\n",
       "    </tr>\n",
       "  </tbody>\n",
       "</table>\n",
       "</div>"
      ],
      "text/plain": [
       "                               id            source  \\\n",
       "9319  boostcamp-sts-v1-train-9319  petition-sampled   \n",
       "9320  boostcamp-sts-v1-train-9320  petition-sampled   \n",
       "9321  boostcamp-sts-v1-train-9321  petition-sampled   \n",
       "9322  boostcamp-sts-v1-train-9322     slack-sampled   \n",
       "9323  boostcamp-sts-v1-train-9323  petition-sampled   \n",
       "\n",
       "                                sentence_1  \\\n",
       "9319  교원능력개발평가에서 교원이 보호받을 수 있는 장치를 마련해야합니다   \n",
       "9320                       여성가족부의 폐지를 원합니드   \n",
       "9321                       국회의원들 월급좀 줄여주세요   \n",
       "9322         오늘 못한 점심은 다음에 다시 츄라이 하기로 해요!!   \n",
       "9323                      법정공휴일 휴무관련 (근로자)   \n",
       "\n",
       "                                         sentence_2  label  binary-label  \n",
       "9319  본인이 납부한 국민연금 금액을 기준으로 대출을 받을 수 있는 제도를 마련해 주세요    0.2           0.0  \n",
       "9320                              여성가족부 폐지를 청원 합니다.    4.2           1.0  \n",
       "9321                               공무원 봉급좀 줄이지좀 마세요    0.6           0.0  \n",
       "9322                       오늘 못먹은 밥은 꼭 담에 먹기로 하고요!!    3.2           1.0  \n",
       "9323                         법정공휴일의 유급휴무화를 막아야 합니다.    1.4           0.0  "
      ]
     },
     "execution_count": 30,
     "metadata": {},
     "output_type": "execute_result"
    }
   ],
   "source": [
    "new_train_df.tail()"
   ]
  },
  {
   "cell_type": "code",
   "execution_count": 60,
   "metadata": {},
   "outputs": [],
   "source": [
    "from tqdm.notebook import tqdm"
   ]
  },
  {
   "cell_type": "code",
   "execution_count": 118,
   "metadata": {},
   "outputs": [],
   "source": [
    "id_prefix = \"boostcamp-sts-v1-train-\"\n",
    "start_id = 9324"
   ]
  },
  {
   "cell_type": "code",
   "execution_count": 119,
   "metadata": {},
   "outputs": [
    {
     "data": {
      "text/plain": [
       "{'id': [],\n",
       " 'source': [],\n",
       " 'sentence_1': [],\n",
       " 'sentence_2': [],\n",
       " 'label': [],\n",
       " 'binary-label': []}"
      ]
     },
     "execution_count": 119,
     "metadata": {},
     "output_type": "execute_result"
    }
   ],
   "source": [
    "new_train_df_dict = {key: [] for key in new_train_df.columns}\n",
    "new_train_df_dict"
   ]
  },
  {
   "cell_type": "code",
   "execution_count": 121,
   "metadata": {},
   "outputs": [
    {
     "data": {
      "application/vnd.jupyter.widget-view+json": {
       "model_id": "43b40f64a4c148cda70e434f6b637794",
       "version_major": 2,
       "version_minor": 0
      },
      "text/plain": [
       "0it [00:00, ?it/s]"
      ]
     },
     "metadata": {},
     "output_type": "display_data"
    },
    {
     "data": {
      "text/html": [
       "<div>\n",
       "<style scoped>\n",
       "    .dataframe tbody tr th:only-of-type {\n",
       "        vertical-align: middle;\n",
       "    }\n",
       "\n",
       "    .dataframe tbody tr th {\n",
       "        vertical-align: top;\n",
       "    }\n",
       "\n",
       "    .dataframe thead th {\n",
       "        text-align: right;\n",
       "    }\n",
       "</style>\n",
       "<table border=\"1\" class=\"dataframe\">\n",
       "  <thead>\n",
       "    <tr style=\"text-align: right;\">\n",
       "      <th></th>\n",
       "      <th>id</th>\n",
       "      <th>source</th>\n",
       "      <th>sentence_1</th>\n",
       "      <th>sentence_2</th>\n",
       "      <th>label</th>\n",
       "      <th>binary-label</th>\n",
       "    </tr>\n",
       "  </thead>\n",
       "  <tbody>\n",
       "    <tr>\n",
       "      <th>0</th>\n",
       "      <td>boostcamp-sts-v1-train-9324</td>\n",
       "      <td>sampled-nsmc</td>\n",
       "      <td>반전도 있고,사랑도 있고재미도있네요.</td>\n",
       "      <td>스릴도있고 반전도 있고 여느 한국영화 쓰레기들하고는 차원이 다르네요~</td>\n",
       "      <td>2.2</td>\n",
       "      <td>0.0</td>\n",
       "    </tr>\n",
       "    <tr>\n",
       "      <th>1</th>\n",
       "      <td>boostcamp-sts-v1-train-9325</td>\n",
       "      <td>rtt-slack</td>\n",
       "      <td>오, 액세스 권한이 없다고 합니다.</td>\n",
       "      <td>앗 제가 접근권한이 없다고 뜹니다;;</td>\n",
       "      <td>4.2</td>\n",
       "      <td>1.0</td>\n",
       "    </tr>\n",
       "    <tr>\n",
       "      <th>2</th>\n",
       "      <td>boostcamp-sts-v1-train-9326</td>\n",
       "      <td>sampled-petition</td>\n",
       "      <td>주택청약 무주택기준 변경해주세요.</td>\n",
       "      <td>주택청약조건 변경해주세요.</td>\n",
       "      <td>2.4</td>\n",
       "      <td>0.0</td>\n",
       "    </tr>\n",
       "    <tr>\n",
       "      <th>3</th>\n",
       "      <td>boostcamp-sts-v1-train-9327</td>\n",
       "      <td>sampled-slack</td>\n",
       "      <td>화상으로만 보다가 리얼로 만나니 정말 반가웠습니다.</td>\n",
       "      <td>입사후 처음 대면으로 만나 반가웠습니다.</td>\n",
       "      <td>3.0</td>\n",
       "      <td>1.0</td>\n",
       "    </tr>\n",
       "    <tr>\n",
       "      <th>4</th>\n",
       "      <td>boostcamp-sts-v1-train-9329</td>\n",
       "      <td>rtt-nsmc</td>\n",
       "      <td>오 마이 갓 지저스 스크론 이스트 팬</td>\n",
       "      <td>오마이가뜨지져스크롸이스트휏</td>\n",
       "      <td>2.6</td>\n",
       "      <td>1.0</td>\n",
       "    </tr>\n",
       "  </tbody>\n",
       "</table>\n",
       "</div>"
      ],
      "text/plain": [
       "                            id            source  \\\n",
       "0  boostcamp-sts-v1-train-9324      sampled-nsmc   \n",
       "1  boostcamp-sts-v1-train-9325         rtt-slack   \n",
       "2  boostcamp-sts-v1-train-9326  sampled-petition   \n",
       "3  boostcamp-sts-v1-train-9327     sampled-slack   \n",
       "4  boostcamp-sts-v1-train-9329          rtt-nsmc   \n",
       "\n",
       "                     sentence_1                              sentence_2  \\\n",
       "0          반전도 있고,사랑도 있고재미도있네요.  스릴도있고 반전도 있고 여느 한국영화 쓰레기들하고는 차원이 다르네요~   \n",
       "1           오, 액세스 권한이 없다고 합니다.                    앗 제가 접근권한이 없다고 뜹니다;;   \n",
       "2            주택청약 무주택기준 변경해주세요.                          주택청약조건 변경해주세요.   \n",
       "3  화상으로만 보다가 리얼로 만나니 정말 반가웠습니다.                  입사후 처음 대면으로 만나 반가웠습니다.   \n",
       "4          오 마이 갓 지저스 스크론 이스트 팬                          오마이가뜨지져스크롸이스트휏   \n",
       "\n",
       "   label  binary-label  \n",
       "0    2.2           0.0  \n",
       "1    4.2           1.0  \n",
       "2    2.4           0.0  \n",
       "3    3.0           1.0  \n",
       "4    2.6           1.0  "
      ]
     },
     "execution_count": 121,
     "metadata": {},
     "output_type": "execute_result"
    }
   ],
   "source": [
    "for i, row in tqdm(train_df.iterrows()):\n",
    "    # if row['label'] <= 0 or row['label'] >= 5:\n",
    "    #     continue\n",
    "    new_train_df_dict['id'].append(id_prefix + str(start_id + i))\n",
    "    new_train_df_dict['source'].append(''.join([row['source'].split('-')[1], '-', row['source'].split('-')[0]]))\n",
    "    new_train_df_dict['sentence_1'].append(row['sentence_2'])\n",
    "    new_train_df_dict['sentence_2'].append(row['sentence_1'])\n",
    "    new_train_df_dict['label'].append(row['label'])\n",
    "    new_train_df_dict['binary-label'].append(row['binary-label'])\n",
    "\n",
    "reverse_train_df = pd.DataFrame(new_train_df_dict)\n",
    "reverse_train_df.head()"
   ]
  },
  {
   "cell_type": "code",
   "execution_count": 122,
   "metadata": {},
   "outputs": [
    {
     "data": {
      "text/html": [
       "<div>\n",
       "<style scoped>\n",
       "    .dataframe tbody tr th:only-of-type {\n",
       "        vertical-align: middle;\n",
       "    }\n",
       "\n",
       "    .dataframe tbody tr th {\n",
       "        vertical-align: top;\n",
       "    }\n",
       "\n",
       "    .dataframe thead th {\n",
       "        text-align: right;\n",
       "    }\n",
       "</style>\n",
       "<table border=\"1\" class=\"dataframe\">\n",
       "  <thead>\n",
       "    <tr style=\"text-align: right;\">\n",
       "      <th></th>\n",
       "      <th>id</th>\n",
       "      <th>source</th>\n",
       "      <th>sentence_1</th>\n",
       "      <th>sentence_2</th>\n",
       "      <th>label</th>\n",
       "      <th>binary-label</th>\n",
       "    </tr>\n",
       "  </thead>\n",
       "  <tbody>\n",
       "    <tr>\n",
       "      <th>16433</th>\n",
       "      <td>boostcamp-sts-v1-train-18643</td>\n",
       "      <td>sampled-petition</td>\n",
       "      <td>본인이 납부한 국민연금 금액을 기준으로 대출을 받을 수 있는 제도를 마련해 주세요</td>\n",
       "      <td>교원능력개발평가에서 교원이 보호받을 수 있는 장치를 마련해야합니다</td>\n",
       "      <td>0.2</td>\n",
       "      <td>0.0</td>\n",
       "    </tr>\n",
       "    <tr>\n",
       "      <th>16434</th>\n",
       "      <td>boostcamp-sts-v1-train-18644</td>\n",
       "      <td>sampled-petition</td>\n",
       "      <td>여성가족부 폐지를 청원 합니다.</td>\n",
       "      <td>여성가족부의 폐지를 원합니드</td>\n",
       "      <td>4.2</td>\n",
       "      <td>1.0</td>\n",
       "    </tr>\n",
       "    <tr>\n",
       "      <th>16435</th>\n",
       "      <td>boostcamp-sts-v1-train-18645</td>\n",
       "      <td>sampled-petition</td>\n",
       "      <td>공무원 봉급좀 줄이지좀 마세요</td>\n",
       "      <td>국회의원들 월급좀 줄여주세요</td>\n",
       "      <td>0.6</td>\n",
       "      <td>0.0</td>\n",
       "    </tr>\n",
       "    <tr>\n",
       "      <th>16436</th>\n",
       "      <td>boostcamp-sts-v1-train-18646</td>\n",
       "      <td>sampled-slack</td>\n",
       "      <td>오늘 못먹은 밥은 꼭 담에 먹기로 하고요!!</td>\n",
       "      <td>오늘 못한 점심은 다음에 다시 츄라이 하기로 해요!!</td>\n",
       "      <td>3.2</td>\n",
       "      <td>1.0</td>\n",
       "    </tr>\n",
       "    <tr>\n",
       "      <th>16437</th>\n",
       "      <td>boostcamp-sts-v1-train-18647</td>\n",
       "      <td>sampled-petition</td>\n",
       "      <td>법정공휴일의 유급휴무화를 막아야 합니다.</td>\n",
       "      <td>법정공휴일 휴무관련 (근로자)</td>\n",
       "      <td>1.4</td>\n",
       "      <td>0.0</td>\n",
       "    </tr>\n",
       "  </tbody>\n",
       "</table>\n",
       "</div>"
      ],
      "text/plain": [
       "                                 id            source  \\\n",
       "16433  boostcamp-sts-v1-train-18643  sampled-petition   \n",
       "16434  boostcamp-sts-v1-train-18644  sampled-petition   \n",
       "16435  boostcamp-sts-v1-train-18645  sampled-petition   \n",
       "16436  boostcamp-sts-v1-train-18646     sampled-slack   \n",
       "16437  boostcamp-sts-v1-train-18647  sampled-petition   \n",
       "\n",
       "                                          sentence_1  \\\n",
       "16433  본인이 납부한 국민연금 금액을 기준으로 대출을 받을 수 있는 제도를 마련해 주세요   \n",
       "16434                              여성가족부 폐지를 청원 합니다.   \n",
       "16435                               공무원 봉급좀 줄이지좀 마세요   \n",
       "16436                       오늘 못먹은 밥은 꼭 담에 먹기로 하고요!!   \n",
       "16437                         법정공휴일의 유급휴무화를 막아야 합니다.   \n",
       "\n",
       "                                 sentence_2  label  binary-label  \n",
       "16433  교원능력개발평가에서 교원이 보호받을 수 있는 장치를 마련해야합니다    0.2           0.0  \n",
       "16434                       여성가족부의 폐지를 원합니드    4.2           1.0  \n",
       "16435                       국회의원들 월급좀 줄여주세요    0.6           0.0  \n",
       "16436         오늘 못한 점심은 다음에 다시 츄라이 하기로 해요!!    3.2           1.0  \n",
       "16437                      법정공휴일 휴무관련 (근로자)    1.4           0.0  "
      ]
     },
     "execution_count": 122,
     "metadata": {},
     "output_type": "execute_result"
    }
   ],
   "source": [
    "reverse_train_df.tail()"
   ]
  },
  {
   "cell_type": "code",
   "execution_count": 123,
   "metadata": {},
   "outputs": [
    {
     "data": {
      "text/html": [
       "<div>\n",
       "<style scoped>\n",
       "    .dataframe tbody tr th:only-of-type {\n",
       "        vertical-align: middle;\n",
       "    }\n",
       "\n",
       "    .dataframe tbody tr th {\n",
       "        vertical-align: top;\n",
       "    }\n",
       "\n",
       "    .dataframe thead th {\n",
       "        text-align: right;\n",
       "    }\n",
       "</style>\n",
       "<table border=\"1\" class=\"dataframe\">\n",
       "  <thead>\n",
       "    <tr style=\"text-align: right;\">\n",
       "      <th></th>\n",
       "      <th>id</th>\n",
       "      <th>source</th>\n",
       "      <th>sentence_1</th>\n",
       "      <th>sentence_2</th>\n",
       "      <th>label</th>\n",
       "      <th>binary-label</th>\n",
       "    </tr>\n",
       "  </thead>\n",
       "  <tbody>\n",
       "    <tr>\n",
       "      <th>0</th>\n",
       "      <td>boostcamp-sts-v1-train-000</td>\n",
       "      <td>nsmc-sampled</td>\n",
       "      <td>스릴도있고 반전도 있고 여느 한국영화 쓰레기들하고는 차원이 다르네요~</td>\n",
       "      <td>반전도 있고,사랑도 있고재미도있네요.</td>\n",
       "      <td>2.2</td>\n",
       "      <td>0.0</td>\n",
       "    </tr>\n",
       "    <tr>\n",
       "      <th>1</th>\n",
       "      <td>boostcamp-sts-v1-train-001</td>\n",
       "      <td>slack-rtt</td>\n",
       "      <td>앗 제가 접근권한이 없다고 뜹니다;;</td>\n",
       "      <td>오, 액세스 권한이 없다고 합니다.</td>\n",
       "      <td>4.2</td>\n",
       "      <td>1.0</td>\n",
       "    </tr>\n",
       "    <tr>\n",
       "      <th>2</th>\n",
       "      <td>boostcamp-sts-v1-train-002</td>\n",
       "      <td>petition-sampled</td>\n",
       "      <td>주택청약조건 변경해주세요.</td>\n",
       "      <td>주택청약 무주택기준 변경해주세요.</td>\n",
       "      <td>2.4</td>\n",
       "      <td>0.0</td>\n",
       "    </tr>\n",
       "    <tr>\n",
       "      <th>3</th>\n",
       "      <td>boostcamp-sts-v1-train-003</td>\n",
       "      <td>slack-sampled</td>\n",
       "      <td>입사후 처음 대면으로 만나 반가웠습니다.</td>\n",
       "      <td>화상으로만 보다가 리얼로 만나니 정말 반가웠습니다.</td>\n",
       "      <td>3.0</td>\n",
       "      <td>1.0</td>\n",
       "    </tr>\n",
       "    <tr>\n",
       "      <th>4</th>\n",
       "      <td>boostcamp-sts-v1-train-004</td>\n",
       "      <td>slack-sampled</td>\n",
       "      <td>뿌듯뿌듯 하네요!!</td>\n",
       "      <td>꼬옥 실제로 한번 뵈어요 뿌뿌뿌~!~!</td>\n",
       "      <td>0.0</td>\n",
       "      <td>0.0</td>\n",
       "    </tr>\n",
       "  </tbody>\n",
       "</table>\n",
       "</div>"
      ],
      "text/plain": [
       "                           id            source  \\\n",
       "0  boostcamp-sts-v1-train-000      nsmc-sampled   \n",
       "1  boostcamp-sts-v1-train-001         slack-rtt   \n",
       "2  boostcamp-sts-v1-train-002  petition-sampled   \n",
       "3  boostcamp-sts-v1-train-003     slack-sampled   \n",
       "4  boostcamp-sts-v1-train-004     slack-sampled   \n",
       "\n",
       "                               sentence_1                    sentence_2  \\\n",
       "0  스릴도있고 반전도 있고 여느 한국영화 쓰레기들하고는 차원이 다르네요~          반전도 있고,사랑도 있고재미도있네요.   \n",
       "1                    앗 제가 접근권한이 없다고 뜹니다;;           오, 액세스 권한이 없다고 합니다.   \n",
       "2                          주택청약조건 변경해주세요.            주택청약 무주택기준 변경해주세요.   \n",
       "3                  입사후 처음 대면으로 만나 반가웠습니다.  화상으로만 보다가 리얼로 만나니 정말 반가웠습니다.   \n",
       "4                              뿌듯뿌듯 하네요!!         꼬옥 실제로 한번 뵈어요 뿌뿌뿌~!~!   \n",
       "\n",
       "   label  binary-label  \n",
       "0    2.2           0.0  \n",
       "1    4.2           1.0  \n",
       "2    2.4           0.0  \n",
       "3    3.0           1.0  \n",
       "4    0.0           0.0  "
      ]
     },
     "execution_count": 123,
     "metadata": {},
     "output_type": "execute_result"
    }
   ],
   "source": [
    "concat_train_df = pd.concat([new_train_df, reverse_train_df], axis=0).reset_index(drop=True)\n",
    "concat_train_df.head()"
   ]
  },
  {
   "cell_type": "code",
   "execution_count": 124,
   "metadata": {},
   "outputs": [
    {
     "data": {
      "text/plain": [
       "(25762, 6)"
      ]
     },
     "execution_count": 124,
     "metadata": {},
     "output_type": "execute_result"
    }
   ],
   "source": [
    "concat_train_df.shape"
   ]
  },
  {
   "cell_type": "code",
   "execution_count": 125,
   "metadata": {},
   "outputs": [
    {
     "data": {
      "text/html": [
       "<div>\n",
       "<style scoped>\n",
       "    .dataframe tbody tr th:only-of-type {\n",
       "        vertical-align: middle;\n",
       "    }\n",
       "\n",
       "    .dataframe tbody tr th {\n",
       "        vertical-align: top;\n",
       "    }\n",
       "\n",
       "    .dataframe thead th {\n",
       "        text-align: right;\n",
       "    }\n",
       "</style>\n",
       "<table border=\"1\" class=\"dataframe\">\n",
       "  <thead>\n",
       "    <tr style=\"text-align: right;\">\n",
       "      <th></th>\n",
       "      <th>id</th>\n",
       "      <th>source</th>\n",
       "      <th>sentence_1</th>\n",
       "      <th>sentence_2</th>\n",
       "      <th>label</th>\n",
       "      <th>binary-label</th>\n",
       "    </tr>\n",
       "  </thead>\n",
       "  <tbody>\n",
       "    <tr>\n",
       "      <th>25757</th>\n",
       "      <td>boostcamp-sts-v1-train-18643</td>\n",
       "      <td>sampled-petition</td>\n",
       "      <td>본인이 납부한 국민연금 금액을 기준으로 대출을 받을 수 있는 제도를 마련해 주세요</td>\n",
       "      <td>교원능력개발평가에서 교원이 보호받을 수 있는 장치를 마련해야합니다</td>\n",
       "      <td>0.2</td>\n",
       "      <td>0.0</td>\n",
       "    </tr>\n",
       "    <tr>\n",
       "      <th>25758</th>\n",
       "      <td>boostcamp-sts-v1-train-18644</td>\n",
       "      <td>sampled-petition</td>\n",
       "      <td>여성가족부 폐지를 청원 합니다.</td>\n",
       "      <td>여성가족부의 폐지를 원합니드</td>\n",
       "      <td>4.2</td>\n",
       "      <td>1.0</td>\n",
       "    </tr>\n",
       "    <tr>\n",
       "      <th>25759</th>\n",
       "      <td>boostcamp-sts-v1-train-18645</td>\n",
       "      <td>sampled-petition</td>\n",
       "      <td>공무원 봉급좀 줄이지좀 마세요</td>\n",
       "      <td>국회의원들 월급좀 줄여주세요</td>\n",
       "      <td>0.6</td>\n",
       "      <td>0.0</td>\n",
       "    </tr>\n",
       "    <tr>\n",
       "      <th>25760</th>\n",
       "      <td>boostcamp-sts-v1-train-18646</td>\n",
       "      <td>sampled-slack</td>\n",
       "      <td>오늘 못먹은 밥은 꼭 담에 먹기로 하고요!!</td>\n",
       "      <td>오늘 못한 점심은 다음에 다시 츄라이 하기로 해요!!</td>\n",
       "      <td>3.2</td>\n",
       "      <td>1.0</td>\n",
       "    </tr>\n",
       "    <tr>\n",
       "      <th>25761</th>\n",
       "      <td>boostcamp-sts-v1-train-18647</td>\n",
       "      <td>sampled-petition</td>\n",
       "      <td>법정공휴일의 유급휴무화를 막아야 합니다.</td>\n",
       "      <td>법정공휴일 휴무관련 (근로자)</td>\n",
       "      <td>1.4</td>\n",
       "      <td>0.0</td>\n",
       "    </tr>\n",
       "  </tbody>\n",
       "</table>\n",
       "</div>"
      ],
      "text/plain": [
       "                                 id            source  \\\n",
       "25757  boostcamp-sts-v1-train-18643  sampled-petition   \n",
       "25758  boostcamp-sts-v1-train-18644  sampled-petition   \n",
       "25759  boostcamp-sts-v1-train-18645  sampled-petition   \n",
       "25760  boostcamp-sts-v1-train-18646     sampled-slack   \n",
       "25761  boostcamp-sts-v1-train-18647  sampled-petition   \n",
       "\n",
       "                                          sentence_1  \\\n",
       "25757  본인이 납부한 국민연금 금액을 기준으로 대출을 받을 수 있는 제도를 마련해 주세요   \n",
       "25758                              여성가족부 폐지를 청원 합니다.   \n",
       "25759                               공무원 봉급좀 줄이지좀 마세요   \n",
       "25760                       오늘 못먹은 밥은 꼭 담에 먹기로 하고요!!   \n",
       "25761                         법정공휴일의 유급휴무화를 막아야 합니다.   \n",
       "\n",
       "                                 sentence_2  label  binary-label  \n",
       "25757  교원능력개발평가에서 교원이 보호받을 수 있는 장치를 마련해야합니다    0.2           0.0  \n",
       "25758                       여성가족부의 폐지를 원합니드    4.2           1.0  \n",
       "25759                       국회의원들 월급좀 줄여주세요    0.6           0.0  \n",
       "25760         오늘 못한 점심은 다음에 다시 츄라이 하기로 해요!!    3.2           1.0  \n",
       "25761                      법정공휴일 휴무관련 (근로자)    1.4           0.0  "
      ]
     },
     "execution_count": 125,
     "metadata": {},
     "output_type": "execute_result"
    }
   ],
   "source": [
    "concat_train_df.tail()"
   ]
  },
  {
   "cell_type": "code",
   "execution_count": 127,
   "metadata": {},
   "outputs": [],
   "source": [
    "concat_train_df.to_csv('concat_train.csv', index=False)"
   ]
  },
  {
   "cell_type": "code",
   "execution_count": 120,
   "metadata": {},
   "outputs": [],
   "source": [
    "shuffle_train_df = concat_train_df.sample(frac=1).reset_index(drop=True)"
   ]
  },
  {
   "cell_type": "code",
   "execution_count": 121,
   "metadata": {},
   "outputs": [
    {
     "data": {
      "text/html": [
       "<div>\n",
       "<style scoped>\n",
       "    .dataframe tbody tr th:only-of-type {\n",
       "        vertical-align: middle;\n",
       "    }\n",
       "\n",
       "    .dataframe tbody tr th {\n",
       "        vertical-align: top;\n",
       "    }\n",
       "\n",
       "    .dataframe thead th {\n",
       "        text-align: right;\n",
       "    }\n",
       "</style>\n",
       "<table border=\"1\" class=\"dataframe\">\n",
       "  <thead>\n",
       "    <tr style=\"text-align: right;\">\n",
       "      <th></th>\n",
       "      <th>id</th>\n",
       "      <th>source</th>\n",
       "      <th>sentence_1</th>\n",
       "      <th>sentence_2</th>\n",
       "      <th>label</th>\n",
       "      <th>binary-label</th>\n",
       "    </tr>\n",
       "  </thead>\n",
       "  <tbody>\n",
       "    <tr>\n",
       "      <th>0</th>\n",
       "      <td>boostcamp-sts-v1-train-10240</td>\n",
       "      <td>rtt-slack</td>\n",
       "      <td>대학원 공부도 열심히 하시고 기회가 된다면 저희 회사에서 다시 만나요!</td>\n",
       "      <td>대학원 생활 열심히하시고 기회되면 다시 우리 회사에서 뵈어요!</td>\n",
       "      <td>3.8</td>\n",
       "      <td>1.0</td>\n",
       "    </tr>\n",
       "    <tr>\n",
       "      <th>1</th>\n",
       "      <td>boostcamp-sts-v1-train-9607</td>\n",
       "      <td>rtt-nsmc</td>\n",
       "      <td>인생이 어떻게 될지 모르는 것과 같습니다.</td>\n",
       "      <td>인생이란 어떻게 될지 모르는 듯.</td>\n",
       "      <td>3.4</td>\n",
       "      <td>1.0</td>\n",
       "    </tr>\n",
       "    <tr>\n",
       "      <th>2</th>\n",
       "      <td>boostcamp-sts-v1-train-17024</td>\n",
       "      <td>sampled-slack</td>\n",
       "      <td>참고로 그 옆에 외계인 방앗간 집도 맛있습니다 ㅎㅎ</td>\n",
       "      <td>외계인 방앗간 맛잇죠</td>\n",
       "      <td>3.2</td>\n",
       "      <td>1.0</td>\n",
       "    </tr>\n",
       "    <tr>\n",
       "      <th>3</th>\n",
       "      <td>boostcamp-sts-v1-train-6345</td>\n",
       "      <td>nsmc-rtt</td>\n",
       "      <td>개봉당시에 너무 묻혀버려서 안타깝다.</td>\n",
       "      <td>열렸을 때 이렇게 묻힌 것이 유감입니다.</td>\n",
       "      <td>3.8</td>\n",
       "      <td>1.0</td>\n",
       "    </tr>\n",
       "    <tr>\n",
       "      <th>4</th>\n",
       "      <td>boostcamp-sts-v1-train-13398</td>\n",
       "      <td>sampled-petition</td>\n",
       "      <td>개천절 (7/17) 공휴일 재지정 당장 실시하라</td>\n",
       "      <td>제헌절 공휴일 재지정 부탁드립니다</td>\n",
       "      <td>2.4</td>\n",
       "      <td>0.0</td>\n",
       "    </tr>\n",
       "  </tbody>\n",
       "</table>\n",
       "</div>"
      ],
      "text/plain": [
       "                             id            source  \\\n",
       "0  boostcamp-sts-v1-train-10240         rtt-slack   \n",
       "1   boostcamp-sts-v1-train-9607          rtt-nsmc   \n",
       "2  boostcamp-sts-v1-train-17024     sampled-slack   \n",
       "3   boostcamp-sts-v1-train-6345          nsmc-rtt   \n",
       "4  boostcamp-sts-v1-train-13398  sampled-petition   \n",
       "\n",
       "                                sentence_1  \\\n",
       "0  대학원 공부도 열심히 하시고 기회가 된다면 저희 회사에서 다시 만나요!   \n",
       "1                  인생이 어떻게 될지 모르는 것과 같습니다.   \n",
       "2             참고로 그 옆에 외계인 방앗간 집도 맛있습니다 ㅎㅎ   \n",
       "3                     개봉당시에 너무 묻혀버려서 안타깝다.   \n",
       "4               개천절 (7/17) 공휴일 재지정 당장 실시하라   \n",
       "\n",
       "                           sentence_2  label  binary-label  \n",
       "0  대학원 생활 열심히하시고 기회되면 다시 우리 회사에서 뵈어요!    3.8           1.0  \n",
       "1                  인생이란 어떻게 될지 모르는 듯.    3.4           1.0  \n",
       "2                         외계인 방앗간 맛잇죠    3.2           1.0  \n",
       "3              열렸을 때 이렇게 묻힌 것이 유감입니다.    3.8           1.0  \n",
       "4                  제헌절 공휴일 재지정 부탁드립니다    2.4           0.0  "
      ]
     },
     "execution_count": 121,
     "metadata": {},
     "output_type": "execute_result"
    }
   ],
   "source": [
    "shuffle_train_df.head()"
   ]
  },
  {
   "cell_type": "code",
   "execution_count": 126,
   "metadata": {},
   "outputs": [
    {
     "ename": "NameError",
     "evalue": "name 'shuffle_train_df' is not defined",
     "output_type": "error",
     "traceback": [
      "\u001b[1;31m---------------------------------------------------------------------------\u001b[0m",
      "\u001b[1;31mNameError\u001b[0m                                 Traceback (most recent call last)",
      "Cell \u001b[1;32mIn[126], line 1\u001b[0m\n\u001b[1;32m----> 1\u001b[0m \u001b[43mshuffle_train_df\u001b[49m\u001b[38;5;241m.\u001b[39mto_csv(\u001b[38;5;124m'\u001b[39m\u001b[38;5;124mreverse_train.csv\u001b[39m\u001b[38;5;124m'\u001b[39m, index\u001b[38;5;241m=\u001b[39m\u001b[38;5;28;01mFalse\u001b[39;00m)\n",
      "\u001b[1;31mNameError\u001b[0m: name 'shuffle_train_df' is not defined"
     ]
    }
   ],
   "source": [
    "shuffle_train_df.to_csv('reverse_train.csv', index=False)"
   ]
  },
  {
   "cell_type": "markdown",
   "metadata": {},
   "source": [
    "Tokenizer 가 이해 못한 단어 찾기\n",
    "\n",
    "- `monologg/koelectra-base-v3-discriminator`"
   ]
  },
  {
   "cell_type": "code",
   "execution_count": 67,
   "metadata": {},
   "outputs": [],
   "source": [
    "import transformers\n",
    "import pytorch_lightning as pl\n",
    "from itertools import chain"
   ]
  },
  {
   "cell_type": "code",
   "execution_count": 33,
   "metadata": {},
   "outputs": [
    {
     "data": {
      "text/html": [
       "<div>\n",
       "<style scoped>\n",
       "    .dataframe tbody tr th:only-of-type {\n",
       "        vertical-align: middle;\n",
       "    }\n",
       "\n",
       "    .dataframe tbody tr th {\n",
       "        vertical-align: top;\n",
       "    }\n",
       "\n",
       "    .dataframe thead th {\n",
       "        text-align: right;\n",
       "    }\n",
       "</style>\n",
       "<table border=\"1\" class=\"dataframe\">\n",
       "  <thead>\n",
       "    <tr style=\"text-align: right;\">\n",
       "      <th></th>\n",
       "      <th>id</th>\n",
       "      <th>source</th>\n",
       "      <th>sentence_1</th>\n",
       "      <th>sentence_2</th>\n",
       "      <th>label</th>\n",
       "      <th>binary-label</th>\n",
       "      <th>bin-label</th>\n",
       "    </tr>\n",
       "  </thead>\n",
       "  <tbody>\n",
       "    <tr>\n",
       "      <th>0</th>\n",
       "      <td>boostcamp-sts-v1-train-000</td>\n",
       "      <td>nsmc-sampled</td>\n",
       "      <td>스릴도있고 반전도 있고 여느 한국영화 쓰레기들하고는 차원이 다르네요~</td>\n",
       "      <td>반전도 있고,사랑도 있고재미도있네요.</td>\n",
       "      <td>2.2</td>\n",
       "      <td>0.0</td>\n",
       "      <td>2-3</td>\n",
       "    </tr>\n",
       "    <tr>\n",
       "      <th>1</th>\n",
       "      <td>boostcamp-sts-v1-train-001</td>\n",
       "      <td>slack-rtt</td>\n",
       "      <td>앗 제가 접근권한이 없다고 뜹니다;;</td>\n",
       "      <td>오, 액세스 권한이 없다고 합니다.</td>\n",
       "      <td>4.2</td>\n",
       "      <td>1.0</td>\n",
       "      <td>4-5</td>\n",
       "    </tr>\n",
       "    <tr>\n",
       "      <th>2</th>\n",
       "      <td>boostcamp-sts-v1-train-002</td>\n",
       "      <td>petition-sampled</td>\n",
       "      <td>주택청약조건 변경해주세요.</td>\n",
       "      <td>주택청약 무주택기준 변경해주세요.</td>\n",
       "      <td>2.4</td>\n",
       "      <td>0.0</td>\n",
       "      <td>2-3</td>\n",
       "    </tr>\n",
       "    <tr>\n",
       "      <th>3</th>\n",
       "      <td>boostcamp-sts-v1-train-003</td>\n",
       "      <td>slack-sampled</td>\n",
       "      <td>입사후 처음 대면으로 만나 반가웠습니다.</td>\n",
       "      <td>화상으로만 보다가 리얼로 만나니 정말 반가웠습니다.</td>\n",
       "      <td>3.0</td>\n",
       "      <td>1.0</td>\n",
       "      <td>3-4</td>\n",
       "    </tr>\n",
       "    <tr>\n",
       "      <th>4</th>\n",
       "      <td>boostcamp-sts-v1-train-004</td>\n",
       "      <td>slack-sampled</td>\n",
       "      <td>뿌듯뿌듯 하네요!!</td>\n",
       "      <td>꼬옥 실제로 한번 뵈어요 뿌뿌뿌~!~!</td>\n",
       "      <td>0.0</td>\n",
       "      <td>0.0</td>\n",
       "      <td>0-1</td>\n",
       "    </tr>\n",
       "  </tbody>\n",
       "</table>\n",
       "</div>"
      ],
      "text/plain": [
       "                           id            source  \\\n",
       "0  boostcamp-sts-v1-train-000      nsmc-sampled   \n",
       "1  boostcamp-sts-v1-train-001         slack-rtt   \n",
       "2  boostcamp-sts-v1-train-002  petition-sampled   \n",
       "3  boostcamp-sts-v1-train-003     slack-sampled   \n",
       "4  boostcamp-sts-v1-train-004     slack-sampled   \n",
       "\n",
       "                               sentence_1                    sentence_2  \\\n",
       "0  스릴도있고 반전도 있고 여느 한국영화 쓰레기들하고는 차원이 다르네요~          반전도 있고,사랑도 있고재미도있네요.   \n",
       "1                    앗 제가 접근권한이 없다고 뜹니다;;           오, 액세스 권한이 없다고 합니다.   \n",
       "2                          주택청약조건 변경해주세요.            주택청약 무주택기준 변경해주세요.   \n",
       "3                  입사후 처음 대면으로 만나 반가웠습니다.  화상으로만 보다가 리얼로 만나니 정말 반가웠습니다.   \n",
       "4                              뿌듯뿌듯 하네요!!         꼬옥 실제로 한번 뵈어요 뿌뿌뿌~!~!   \n",
       "\n",
       "   label  binary-label bin-label  \n",
       "0    2.2           0.0       2-3  \n",
       "1    4.2           1.0       4-5  \n",
       "2    2.4           0.0       2-3  \n",
       "3    3.0           1.0       3-4  \n",
       "4    0.0           0.0       0-1  "
      ]
     },
     "execution_count": 33,
     "metadata": {},
     "output_type": "execute_result"
    }
   ],
   "source": [
    "train_df.head()"
   ]
  },
  {
   "cell_type": "code",
   "execution_count": 32,
   "metadata": {},
   "outputs": [],
   "source": [
    "tokenizer = transformers.ElectraTokenizer.from_pretrained('snunlp/KR-ELECTRA-discriminator')"
   ]
  },
  {
   "cell_type": "code",
   "execution_count": 34,
   "metadata": {},
   "outputs": [
    {
     "data": {
      "text/plain": [
       "'스릴도있고 반전도 있고 여느 한국영화 쓰레기들하고는 차원이 다르네요~'"
      ]
     },
     "execution_count": 34,
     "metadata": {},
     "output_type": "execute_result"
    }
   ],
   "source": [
    "train_df['sentence_1'][0]"
   ]
  },
  {
   "cell_type": "code",
   "execution_count": 35,
   "metadata": {},
   "outputs": [],
   "source": [
    "tokens = tokenizer(train_df['sentence_1'][0])"
   ]
  },
  {
   "cell_type": "code",
   "execution_count": 44,
   "metadata": {},
   "outputs": [
    {
     "data": {
      "text/plain": [
       "id              boostcamp-sts-v1-train-100\n",
       "source                    petition-sampled\n",
       "sentence_1                 히딩크감독님을 모셔와야합니다\n",
       "sentence_2          히딩크감독을 다시 대한민국 축구 감독으로\n",
       "label                                  3.2\n",
       "binary-label                           1.0\n",
       "bin-label                              3-4\n",
       "Name: 100, dtype: object"
      ]
     },
     "execution_count": 44,
     "metadata": {},
     "output_type": "execute_result"
    }
   ],
   "source": [
    "train_df.iloc[100]"
   ]
  },
  {
   "cell_type": "code",
   "execution_count": 55,
   "metadata": {},
   "outputs": [],
   "source": [
    "def find_unknown_tokens(tokenizer, sentence):\n",
    "    # Tokenize the sentence\n",
    "    tokenized_output = tokenizer.encode(sentence)\n",
    "\n",
    "    # Initialize a list to store unknown tokens\n",
    "    unknown_tokens = []\n",
    "\n",
    "    # Check each token\n",
    "    for token in tokenized_output:\n",
    "        # Check if the token is in the tokenizer's vocabulary\n",
    "        if token not in tokenizer.get_vocab():\n",
    "            unknown_tokens.append(token)\n",
    "\n",
    "    print(f\"Token ids: {tokenized_output}\")\n",
    "    print(f\"Tokenized: {tokenizer.convert_ids_to_tokens(tokenized_output)}\")\n",
    "    \n",
    "    return unknown_tokens"
   ]
  },
  {
   "cell_type": "code",
   "execution_count": 56,
   "metadata": {},
   "outputs": [
    {
     "name": "stdout",
     "output_type": "stream",
     "text": [
      "Token ids: [2, 29065, 5433, 5717, 5486, 5103, 16770, 5165, 5146, 10481, 3]\n",
      "Tokenized: ['[CLS]', '히딩크', '##감', '##독', '##님', '##을', '모셔', '##와', '##야', '##합니다', '[SEP]']\n"
     ]
    },
    {
     "data": {
      "text/plain": [
       "[2, 29065, 5433, 5717, 5486, 5103, 16770, 5165, 5146, 10481, 3]"
      ]
     },
     "execution_count": 56,
     "metadata": {},
     "output_type": "execute_result"
    }
   ],
   "source": [
    "find_unknown_tokens(tokenizer, train_df['sentence_1'][100])"
   ]
  },
  {
   "cell_type": "code",
   "execution_count": 57,
   "metadata": {},
   "outputs": [],
   "source": [
    "vocab = tokenizer.get_vocab()"
   ]
  },
  {
   "cell_type": "code",
   "execution_count": 58,
   "metadata": {},
   "outputs": [
    {
     "data": {
      "text/plain": [
       "1"
      ]
     },
     "execution_count": 58,
     "metadata": {},
     "output_type": "execute_result"
    }
   ],
   "source": [
    "vocab['[UNK]']"
   ]
  },
  {
   "cell_type": "code",
   "execution_count": 61,
   "metadata": {},
   "outputs": [
    {
     "data": {
      "application/vnd.jupyter.widget-view+json": {
       "model_id": "64d04088bfdc43e9a400eb8550842993",
       "version_major": 2,
       "version_minor": 0
      },
      "text/plain": [
       "0it [00:00, ?it/s]"
      ]
     },
     "metadata": {},
     "output_type": "display_data"
    }
   ],
   "source": [
    "all_sentences = []\n",
    "for i, row in tqdm(train_df.iterrows()):\n",
    "    all_sentences.append(row['sentence_1'])\n",
    "    all_sentences.append(row['sentence_2'])"
   ]
  },
  {
   "cell_type": "code",
   "execution_count": 112,
   "metadata": {},
   "outputs": [
    {
     "data": {
      "text/plain": [
       "18648"
      ]
     },
     "execution_count": 112,
     "metadata": {},
     "output_type": "execute_result"
    }
   ],
   "source": [
    "len(all_sentences)"
   ]
  },
  {
   "cell_type": "code",
   "execution_count": 106,
   "metadata": {},
   "outputs": [],
   "source": [
    "def find_unknown_token_from_sentences(tokenizer, sentences):\n",
    "    unknown_token_sentences = []\n",
    "    for sentence in tqdm(sentences):\n",
    "        # Tokenize the sentence\n",
    "        token_ids = tokenizer.encode(sentence)\n",
    "        if 1 in token_ids:\n",
    "            tokens = tokenizer.convert_ids_to_tokens(token_ids)\n",
    "            unknown_token_sentences.append({sentence: tokens})\n",
    "    return unknown_token_sentences"
   ]
  },
  {
   "cell_type": "code",
   "execution_count": 113,
   "metadata": {},
   "outputs": [
    {
     "data": {
      "application/vnd.jupyter.widget-view+json": {
       "model_id": "beaaf2a36f764522bb4efd2f235be68e",
       "version_major": 2,
       "version_minor": 0
      },
      "text/plain": [
       "  0%|          | 0/18648 [00:00<?, ?it/s]"
      ]
     },
     "metadata": {},
     "output_type": "display_data"
    }
   ],
   "source": [
    "unknown_token_sentences = find_unknown_token_from_sentences(tokenizer, all_sentences)"
   ]
  },
  {
   "cell_type": "code",
   "execution_count": 114,
   "metadata": {},
   "outputs": [
    {
     "data": {
      "text/plain": [
       "26"
      ]
     },
     "execution_count": 114,
     "metadata": {},
     "output_type": "execute_result"
    }
   ],
   "source": [
    "len(unknown_token_sentences)"
   ]
  },
  {
   "cell_type": "code",
   "execution_count": 117,
   "metadata": {},
   "outputs": [
    {
     "name": "stdout",
     "output_type": "stream",
     "text": [
      "#1====================================================================================================\n",
      "Sentence: 오마이가뜨지져스크롸이스트휏\n",
      "Tokens: [CLS]_[UNK]_[SEP]\n",
      "\n",
      "#2====================================================================================================\n",
      "Sentence: ☼문재인정부는 교육을 획기적으로 개혁하라!\n",
      "Tokens: [CLS]_[UNK]_교육_##을_획기적으로_개혁_##하라_!_[SEP]\n",
      "\n",
      "#3====================================================================================================\n",
      "Sentence: 나만 당할순 없다.... o(｀ )o\n",
      "Tokens: [CLS]_나_##만_당할_##순_없_##다_._._._._o_(_[UNK]_)_o_[SEP]\n",
      "\n",
      "#4====================================================================================================\n",
      "Sentence: 달리기 자세는 뭐 보샸나요?\n",
      "Tokens: [CLS]_달리_##기_자세_##는_뭐_[UNK]_?_[SEP]\n",
      "\n",
      "#5====================================================================================================\n",
      "Sentence: 듣고보니 지금 아이가 더욱 귀염뽀쨕해보이네요 ㅎㅎ\n",
      "Tokens: [CLS]_듣_##고_##보_##니_지금_아이_##가_더욱_[UNK]_ㅎㅎ_[SEP]\n",
      "\n",
      "#6====================================================================================================\n",
      "Sentence: 정말 많은 애니를 뵛지만 역대 최고 !!!\n",
      "Tokens: [CLS]_정말_많_##은_애니_##를_[UNK]_역대_최고_!_!_!_[SEP]\n",
      "\n",
      "#7====================================================================================================\n",
      "Sentence: 뀰잼이다뀰잼이라구여\n",
      "Tokens: [CLS]_[UNK]_[SEP]\n",
      "\n",
      "#8====================================================================================================\n",
      "Sentence: 글로벌 시대에 세계인들 모두가 동참하여 우리 아이들의 정신적 신체적 학대에 대해 쵯한의 인권이라도 보호해줄수 있는 세계통합의 법을 만들고 싶습니다.\n",
      "Tokens: [CLS]_글로벌_시대_##에_세계인_##들_모두_##가_동참_##하여_우리_아이_##들_##의_정신_##적_신체_##적_학대_##에_대해_[UNK]_인권_##이라_##도_보호_##해_##줄_##수_있_##는_세계_##통_##합_##의_법_##을_만들_##고_싶_##습니다_._[SEP]\n",
      "\n",
      "#9====================================================================================================\n",
      "Sentence: 편집됬다는게 흑.. 빂츠갔더니 편집된게 있는!! 뙇!!\n",
      "Tokens: [CLS]_편집_##됬_##다는_##게_흑_._._[UNK]_편집_##된_##게_있_##는_!_!_뙇_!_!_[SEP]\n",
      "\n",
      "#10====================================================================================================\n",
      "Sentence: 보면 화가나네 줸쟝\n",
      "Tokens: [CLS]_보_##면_화가_##나_##네_[UNK]_[SEP]\n",
      "\n",
      "#11====================================================================================================\n",
      "Sentence: 내가 외국에 있을때 이거 좠는데 이거 진짜 재미없다.\n",
      "Tokens: [CLS]_내_##가_외국_##에_있_##을_##때_이거_[UNK]_이거_진짜_재미없_##다_._[SEP]\n",
      "\n",
      "#12====================================================================================================\n",
      "Sentence: 아 진촤 너무 귀여운거 아늼니꽈??\n",
      "Tokens: [CLS]_아_진_##촤_너무_귀여운_##거_[UNK]_?_?_[SEP]\n",
      "\n",
      "#13====================================================================================================\n",
      "Sentence: 대튱령각하 알바몬 알바천국 개인 정보 유출 사건 신고합니다\n",
      "Tokens: [CLS]_[UNK]_알바_##몬_알바_##천_##국_개인_정보_유출_사건_신고_##합니다_[SEP]\n",
      "\n",
      "#14====================================================================================================\n",
      "Sentence: 야호... 호야호야 귀가 쫑끗하네요 쏘큩\n",
      "Tokens: [CLS]_야_##호_._._._호_##야_##호_##야_귀가_쫑_##끗_##하_##네요_[UNK]_[SEP]\n",
      "\n",
      "#15====================================================================================================\n",
      "Sentence: 이유가 없습니다. 호호홐\n",
      "Tokens: [CLS]_이유_##가_없_##습니다_._[UNK]_[SEP]\n",
      "\n",
      "#16====================================================================================================\n",
      "Sentence: 근손실 방지를 위해 의자 대신 스쾃 자세로 드시는거 아니죠?\n",
      "Tokens: [CLS]_근_##손_##실_방지_##를_위해_의자_대신_[UNK]_자세_##로_드_##시_##는_##거_아니_##죠_?_[SEP]\n",
      "\n",
      "#17====================================================================================================\n",
      "Sentence: 역시일본것칻더니일본거내\n",
      "Tokens: [CLS]_[UNK]_[SEP]\n",
      "\n",
      "#18====================================================================================================\n",
      "Sentence: 진짜 ㅠㅠ 치명적 굠\n",
      "Tokens: [CLS]_진짜_ㅠㅠ_치명_##적_[UNK]_[SEP]\n",
      "\n",
      "#19====================================================================================================\n",
      "Sentence: 재밌는데 헐춋류훃..ㅍ\n",
      "Tokens: [CLS]_재밌_##는데_[UNK]_._._ㅍ_[SEP]\n",
      "\n",
      "#20====================================================================================================\n",
      "Sentence: ㅋㅋ 로우라이즠ㅋㅋㅋ ㅎㅎ 생각보다 이거 고민하게 되는 문제네옄ㅋㅋ\n",
      "Tokens: [CLS]_ㅋㅋ_[UNK]_ㅎㅎ_생각_##보_##다_이거_고민_##하_##게_되_##는_문제_##네_##옄_##ㅋㅋ_[SEP]\n",
      "\n",
      "#21====================================================================================================\n",
      "Sentence: 박평식이 오랜만에 제대로 된 영화평 쎴다\n",
      "Tokens: [CLS]_박_##평_##식_##이_오랜만_##에_제대로_된_영화_##평_[UNK]_[SEP]\n",
      "\n",
      "#22====================================================================================================\n",
      "Sentence: 신선한 소재에 좋은 배우들이 나와서 재미있게 벴어요~~\n",
      "Tokens: [CLS]_신선_##한_소재_##에_좋_##은_배우_##들이_나와서_재미있_##게_[UNK]_~_~_[SEP]\n",
      "\n",
      "#23====================================================================================================\n",
      "Sentence: 아이유 땈 조타!!!\n",
      "Tokens: [CLS]_아이유_[UNK]_조_##타_!_!_!_[SEP]\n",
      "\n",
      "#24====================================================================================================\n",
      "Sentence: ㅋㅋㅋ왜 기억을 없애냐고 ㅠㅠ 아 사랑이뤄지길바럤는데\n",
      "Tokens: [CLS]_ㅋㅋㅋ_##왜_기억_##을_없애_##냐_##고_ㅠㅠ_아_[UNK]_[SEP]\n",
      "\n",
      "#25====================================================================================================\n",
      "Sentence: 믱 ;ㅁ; 시간이 없어서 시도도 사실 못해봐서...\n",
      "Tokens: [CLS]_[UNK]_;_ㅁ_;_시간_##이_없_##어서_시도_##도_사실_못해_##봐_##서_._._._[SEP]\n",
      "\n",
      "#26====================================================================================================\n",
      "Sentence: 빂이어서 그런지 참 재밌구나\n",
      "Tokens: [CLS]_[UNK]_그런지_참_재밌_##구나_[SEP]\n",
      "\n"
     ]
    }
   ],
   "source": [
    "for i, uts in enumerate(unknown_token_sentences):\n",
    "    print(f\"#{i+1}\" + \"=\"*100)\n",
    "    print(f\"Sentence: {list(uts.keys())[0]}\")\n",
    "    print(f\"Tokens: {'_'.join(list(uts.values())[0])}\\n\")"
   ]
  },
  {
   "cell_type": "code",
   "execution_count": null,
   "metadata": {},
   "outputs": [],
   "source": [
    "def find_unknowns(df, tokenizer):\n",
    "    all_sentences = []\n",
    "    for i, row in tqdm(df.iterrows()):\n",
    "        all_sentences.append(row['sentence_1'])\n",
    "        all_sentences.append(row['sentence_2'])\n",
    "    unknown_token_sentences = find_unknown_token_from_sentences(tokenizer, all_sentences)\n",
    "\n",
    "    for i, uts in enumerate(unknown_token_sentences):\n",
    "        print(f\"#{i+1}\" + \"=\"*100)\n",
    "        print(f\"Sentence: {list(uts.keys())[0]}\")\n",
    "        print(f\"Tokens: {'_'.join(list(uts.values())[0])}\\n\")\n",
    "\n",
    "    return unknown_token_sentences"
   ]
  }
 ],
 "metadata": {
  "kernelspec": {
   "display_name": "torch",
   "language": "python",
   "name": "python3"
  },
  "language_info": {
   "codemirror_mode": {
    "name": "ipython",
    "version": 3
   },
   "file_extension": ".py",
   "mimetype": "text/x-python",
   "name": "python",
   "nbconvert_exporter": "python",
   "pygments_lexer": "ipython3",
   "version": "3.10.13"
  }
 },
 "nbformat": 4,
 "nbformat_minor": 2
}
